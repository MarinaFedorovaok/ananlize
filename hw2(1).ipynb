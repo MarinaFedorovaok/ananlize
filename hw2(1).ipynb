{
  "metadata": {
    "language_info": {
      "codemirror_mode": {
        "name": "python",
        "version": 3
      },
      "file_extension": ".py",
      "mimetype": "text/x-python",
      "name": "python",
      "nbconvert_exporter": "python",
      "pygments_lexer": "ipython3",
      "version": "3.8"
    },
    "kernelspec": {
      "name": "python",
      "display_name": "Python (Pyodide)",
      "language": "python"
    }
  },
  "nbformat_minor": 4,
  "nbformat": 4,
  "cells": [
    {
      "cell_type": "markdown",
      "source": "#Домашнее задание 2",
      "metadata": {}
    },
    {
      "cell_type": "markdown",
      "source": "##Задание 2.1",
      "metadata": {}
    },
    {
      "cell_type": "markdown",
      "source": "Скачать данные по ссылке https://www.kaggle.com/datasets/esratmaria/house-price-dataset-with-other-information\nСчитать данные с помощью pandas\nВывести на экран первые 5 строк\nПосмотреть на описание признаков и на их содержание",
      "metadata": {}
    },
    {
      "cell_type": "code",
      "source": "import pandas as pd",
      "metadata": {
        "trusted": true
      },
      "execution_count": 1,
      "outputs": []
    },
    {
      "cell_type": "code",
      "source": "df = pd.read_csv('./kc_house_data.csv', sep = ',', header = 1)",
      "metadata": {
        "trusted": true
      },
      "execution_count": 38,
      "outputs": []
    },
    {
      "cell_type": "code",
      "source": "df.head(5)",
      "metadata": {
        "trusted": true
      },
      "execution_count": 39,
      "outputs": [
        {
          "execution_count": 39,
          "output_type": "execute_result",
          "data": {
            "text/plain": "   7663700610  20150310T000000    477500  4  1.75  1860   9364    1  0  0.1  \\\n0  7520000330  20140813T000000  285000.0  3  2.50  1690   7460  1.0  0    0   \n1  1521049156  20141010T000000  255000.0  3  2.75  1900  16117  1.0  0    0   \n2  6648760150  20140728T000000  315000.0  3  2.50  1600   7982  2.0  0    0   \n3  1807900300  20141217T000000  830000.0  6  3.00  2530   9000  1.0  0    0   \n4  4310700778  20150210T000000  539950.0  3  2.25  1860   1558  3.0  0    0   \n\n   3  7  1080  780  1953  0.2  98125   47.731  -122.301  1800  9364.1  \n0  3  7   870  820  1997    0  98146  47.4964  -122.353  1900    7302  \n1  4  7  1900    0  1958    0  98001  47.3144  -122.278  1640   19166  \n2  3  8  1600    0  1993    0  98001  47.3397  -122.266  1890    9830  \n3  3  6  2530    0  1978    0  98033  47.6716  -122.199  1886    6000  \n4  3  8  1860    0  2014    0  98103  47.7006  -122.339  1760    2456  ",
            "text/html": "<div>\n<style scoped>\n    .dataframe tbody tr th:only-of-type {\n        vertical-align: middle;\n    }\n\n    .dataframe tbody tr th {\n        vertical-align: top;\n    }\n\n    .dataframe thead th {\n        text-align: right;\n    }\n</style>\n<table border=\"1\" class=\"dataframe\">\n  <thead>\n    <tr style=\"text-align: right;\">\n      <th></th>\n      <th>7663700610</th>\n      <th>20150310T000000</th>\n      <th>477500</th>\n      <th>4</th>\n      <th>1.75</th>\n      <th>1860</th>\n      <th>9364</th>\n      <th>1</th>\n      <th>0</th>\n      <th>0.1</th>\n      <th>3</th>\n      <th>7</th>\n      <th>1080</th>\n      <th>780</th>\n      <th>1953</th>\n      <th>0.2</th>\n      <th>98125</th>\n      <th>47.731</th>\n      <th>-122.301</th>\n      <th>1800</th>\n      <th>9364.1</th>\n    </tr>\n  </thead>\n  <tbody>\n    <tr>\n      <th>0</th>\n      <td>7520000330</td>\n      <td>20140813T000000</td>\n      <td>285000.0</td>\n      <td>3</td>\n      <td>2.50</td>\n      <td>1690</td>\n      <td>7460</td>\n      <td>1.0</td>\n      <td>0</td>\n      <td>0</td>\n      <td>3</td>\n      <td>7</td>\n      <td>870</td>\n      <td>820</td>\n      <td>1997</td>\n      <td>0</td>\n      <td>98146</td>\n      <td>47.4964</td>\n      <td>-122.353</td>\n      <td>1900</td>\n      <td>7302</td>\n    </tr>\n    <tr>\n      <th>1</th>\n      <td>1521049156</td>\n      <td>20141010T000000</td>\n      <td>255000.0</td>\n      <td>3</td>\n      <td>2.75</td>\n      <td>1900</td>\n      <td>16117</td>\n      <td>1.0</td>\n      <td>0</td>\n      <td>0</td>\n      <td>4</td>\n      <td>7</td>\n      <td>1900</td>\n      <td>0</td>\n      <td>1958</td>\n      <td>0</td>\n      <td>98001</td>\n      <td>47.3144</td>\n      <td>-122.278</td>\n      <td>1640</td>\n      <td>19166</td>\n    </tr>\n    <tr>\n      <th>2</th>\n      <td>6648760150</td>\n      <td>20140728T000000</td>\n      <td>315000.0</td>\n      <td>3</td>\n      <td>2.50</td>\n      <td>1600</td>\n      <td>7982</td>\n      <td>2.0</td>\n      <td>0</td>\n      <td>0</td>\n      <td>3</td>\n      <td>8</td>\n      <td>1600</td>\n      <td>0</td>\n      <td>1993</td>\n      <td>0</td>\n      <td>98001</td>\n      <td>47.3397</td>\n      <td>-122.266</td>\n      <td>1890</td>\n      <td>9830</td>\n    </tr>\n    <tr>\n      <th>3</th>\n      <td>1807900300</td>\n      <td>20141217T000000</td>\n      <td>830000.0</td>\n      <td>6</td>\n      <td>3.00</td>\n      <td>2530</td>\n      <td>9000</td>\n      <td>1.0</td>\n      <td>0</td>\n      <td>0</td>\n      <td>3</td>\n      <td>6</td>\n      <td>2530</td>\n      <td>0</td>\n      <td>1978</td>\n      <td>0</td>\n      <td>98033</td>\n      <td>47.6716</td>\n      <td>-122.199</td>\n      <td>1886</td>\n      <td>6000</td>\n    </tr>\n    <tr>\n      <th>4</th>\n      <td>4310700778</td>\n      <td>20150210T000000</td>\n      <td>539950.0</td>\n      <td>3</td>\n      <td>2.25</td>\n      <td>1860</td>\n      <td>1558</td>\n      <td>3.0</td>\n      <td>0</td>\n      <td>0</td>\n      <td>3</td>\n      <td>8</td>\n      <td>1860</td>\n      <td>0</td>\n      <td>2014</td>\n      <td>0</td>\n      <td>98103</td>\n      <td>47.7006</td>\n      <td>-122.339</td>\n      <td>1760</td>\n      <td>2456</td>\n    </tr>\n  </tbody>\n</table>\n</div>"
          },
          "metadata": {}
        }
      ]
    },
    {
      "cell_type": "code",
      "source": "df.info()",
      "metadata": {
        "trusted": true
      },
      "execution_count": 14,
      "outputs": [
        {
          "name": "stdout",
          "text": "<class 'pandas.core.frame.DataFrame'>\nMultiIndex: 3596 entries, (7663700610, '20150310T000000', 477500.0, 4, 1.75, 1860, 9364, 1.0, 0, 0, 3, 7, 1080, 780, 1953, 0) to (1523300157, '20141015T000000', 325000.0, 2, 0.75, 1020, 1076, 2.0, 0, 0, 3, 7, 1020, 0, 2008, 0)\nData columns (total 5 columns):\n #   Column                         Non-Null Count  Dtype  \n---  ------                         --------------  -----  \n 0   ,0,0,3,7,3040,0,1999,0,98030\"  3596 non-null   int64  \n 1   47.3817                        3596 non-null   float64\n 2   -122.206                       3596 non-null   float64\n 3   2670                           3596 non-null   int64  \n 4   6259                           3596 non-null   int64  \ndtypes: float64(2), int64(3)\nmemory usage: 505.8+ KB\n",
          "output_type": "stream"
        }
      ]
    },
    {
      "cell_type": "markdown",
      "source": "##Задание 2.2",
      "metadata": {}
    },
    {
      "cell_type": "markdown",
      "source": "Проведите первичный анализ данных\nИзучите типы данных\nНайдите количество пропущенных ячеек в данных\nПосчитайте основные статистики по всем признакам и поизучайте их\nПишите выводы\n",
      "metadata": {}
    },
    {
      "cell_type": "code",
      "source": "df.describe()",
      "metadata": {
        "trusted": true
      },
      "execution_count": 15,
      "outputs": [
        {
          "execution_count": 15,
          "output_type": "execute_result",
          "data": {
            "text/plain": "       ,0,0,3,7,3040,0,1999,0,98030\"      47.3817     -122.206         2670  \\\ncount                    3596.000000  3596.000000  3596.000000  3596.000000   \nmean                    98077.233871    47.559205  -122.207633  2053.912959   \nstd                        50.288393     0.133022     0.149041   740.412322   \nmin                     98001.000000    47.185300  -122.491000   670.000000   \n25%                     98033.000000    47.487750  -122.335000  1480.000000   \n50%                     98065.000000    47.565950  -122.226500  1890.000000   \n75%                     98116.000000    47.671800  -122.111000  2500.000000   \nmax                     98199.000000    47.777200  -121.364000  6210.000000   \n\n                6259  \ncount    3596.000000  \nmean    10222.982202  \nstd     26985.734431  \nmin       651.000000  \n25%      3800.000000  \n50%      5772.000000  \n75%      8640.000000  \nmax    858132.000000  ",
            "text/html": "<div>\n<style scoped>\n    .dataframe tbody tr th:only-of-type {\n        vertical-align: middle;\n    }\n\n    .dataframe tbody tr th {\n        vertical-align: top;\n    }\n\n    .dataframe thead th {\n        text-align: right;\n    }\n</style>\n<table border=\"1\" class=\"dataframe\">\n  <thead>\n    <tr style=\"text-align: right;\">\n      <th></th>\n      <th>,0,0,3,7,3040,0,1999,0,98030\"</th>\n      <th>47.3817</th>\n      <th>-122.206</th>\n      <th>2670</th>\n      <th>6259</th>\n    </tr>\n  </thead>\n  <tbody>\n    <tr>\n      <th>count</th>\n      <td>3596.000000</td>\n      <td>3596.000000</td>\n      <td>3596.000000</td>\n      <td>3596.000000</td>\n      <td>3596.000000</td>\n    </tr>\n    <tr>\n      <th>mean</th>\n      <td>98077.233871</td>\n      <td>47.559205</td>\n      <td>-122.207633</td>\n      <td>2053.912959</td>\n      <td>10222.982202</td>\n    </tr>\n    <tr>\n      <th>std</th>\n      <td>50.288393</td>\n      <td>0.133022</td>\n      <td>0.149041</td>\n      <td>740.412322</td>\n      <td>26985.734431</td>\n    </tr>\n    <tr>\n      <th>min</th>\n      <td>98001.000000</td>\n      <td>47.185300</td>\n      <td>-122.491000</td>\n      <td>670.000000</td>\n      <td>651.000000</td>\n    </tr>\n    <tr>\n      <th>25%</th>\n      <td>98033.000000</td>\n      <td>47.487750</td>\n      <td>-122.335000</td>\n      <td>1480.000000</td>\n      <td>3800.000000</td>\n    </tr>\n    <tr>\n      <th>50%</th>\n      <td>98065.000000</td>\n      <td>47.565950</td>\n      <td>-122.226500</td>\n      <td>1890.000000</td>\n      <td>5772.000000</td>\n    </tr>\n    <tr>\n      <th>75%</th>\n      <td>98116.000000</td>\n      <td>47.671800</td>\n      <td>-122.111000</td>\n      <td>2500.000000</td>\n      <td>8640.000000</td>\n    </tr>\n    <tr>\n      <th>max</th>\n      <td>98199.000000</td>\n      <td>47.777200</td>\n      <td>-121.364000</td>\n      <td>6210.000000</td>\n      <td>858132.000000</td>\n    </tr>\n  </tbody>\n</table>\n</div>"
          },
          "metadata": {}
        }
      ]
    },
    {
      "cell_type": "markdown",
      "source": "Первичный анализ данных сделан в предыдущем задании, пропущенных ячеек нет. Трудновато написать выводы, не очень понятно о чем речь",
      "metadata": {}
    },
    {
      "cell_type": "markdown",
      "source": "## Задание 2.3.",
      "metadata": {}
    },
    {
      "cell_type": "markdown",
      "source": "Ответьте на несколько вопросов\n3.1 В каком диапазоне изменяются стоимости недвижимости?\n3.2 Какую долю в среднем занимают жилая площадь от всей площади по всем домам?\n3.3 Как много домов с разными этажами в данных?\n3.4 Насколько хорошее состояния у домов в данных?\n3.5 Найдите года, когда построили первый дом, когда построили последний дом в данных?",
      "metadata": {}
    },
    {
      "cell_type": "code",
      "source": "pd.set_option('display.max_columns', None)",
      "metadata": {
        "trusted": true
      },
      "execution_count": 25,
      "outputs": []
    },
    {
      "cell_type": "code",
      "source": "df.head(5)",
      "metadata": {
        "trusted": true
      },
      "execution_count": 24,
      "outputs": [
        {
          "execution_count": 24,
          "output_type": "execute_result",
          "data": {
            "text/plain": "   7663700610  20150310T000000    477500  4  1.75  1860   9364    1  0  0.1  \\\n0  7520000330  20140813T000000  285000.0  3  2.50  1690   7460  1.0  0    0   \n1  1521049156  20141010T000000  255000.0  3  2.75  1900  16117  1.0  0    0   \n2  6648760150  20140728T000000  315000.0  3  2.50  1600   7982  2.0  0    0   \n3  1807900300  20141217T000000  830000.0  6  3.00  2530   9000  1.0  0    0   \n4  4310700778  20150210T000000  539950.0  3  2.25  1860   1558  3.0  0    0   \n\n   3  7  1080  780  1953  0.2  98125   47.731  -122.301  1800  9364.1  \n0  3  7   870  820  1997    0  98146  47.4964  -122.353  1900    7302  \n1  4  7  1900    0  1958    0  98001  47.3144  -122.278  1640   19166  \n2  3  8  1600    0  1993    0  98001  47.3397  -122.266  1890    9830  \n3  3  6  2530    0  1978    0  98033  47.6716  -122.199  1886    6000  \n4  3  8  1860    0  2014    0  98103  47.7006  -122.339  1760    2456  ",
            "text/html": "<div>\n<style scoped>\n    .dataframe tbody tr th:only-of-type {\n        vertical-align: middle;\n    }\n\n    .dataframe tbody tr th {\n        vertical-align: top;\n    }\n\n    .dataframe thead th {\n        text-align: right;\n    }\n</style>\n<table border=\"1\" class=\"dataframe\">\n  <thead>\n    <tr style=\"text-align: right;\">\n      <th></th>\n      <th>7663700610</th>\n      <th>20150310T000000</th>\n      <th>477500</th>\n      <th>4</th>\n      <th>1.75</th>\n      <th>1860</th>\n      <th>9364</th>\n      <th>1</th>\n      <th>0</th>\n      <th>0.1</th>\n      <th>3</th>\n      <th>7</th>\n      <th>1080</th>\n      <th>780</th>\n      <th>1953</th>\n      <th>0.2</th>\n      <th>98125</th>\n      <th>47.731</th>\n      <th>-122.301</th>\n      <th>1800</th>\n      <th>9364.1</th>\n    </tr>\n  </thead>\n  <tbody>\n    <tr>\n      <th>0</th>\n      <td>7520000330</td>\n      <td>20140813T000000</td>\n      <td>285000.0</td>\n      <td>3</td>\n      <td>2.50</td>\n      <td>1690</td>\n      <td>7460</td>\n      <td>1.0</td>\n      <td>0</td>\n      <td>0</td>\n      <td>3</td>\n      <td>7</td>\n      <td>870</td>\n      <td>820</td>\n      <td>1997</td>\n      <td>0</td>\n      <td>98146</td>\n      <td>47.4964</td>\n      <td>-122.353</td>\n      <td>1900</td>\n      <td>7302</td>\n    </tr>\n    <tr>\n      <th>1</th>\n      <td>1521049156</td>\n      <td>20141010T000000</td>\n      <td>255000.0</td>\n      <td>3</td>\n      <td>2.75</td>\n      <td>1900</td>\n      <td>16117</td>\n      <td>1.0</td>\n      <td>0</td>\n      <td>0</td>\n      <td>4</td>\n      <td>7</td>\n      <td>1900</td>\n      <td>0</td>\n      <td>1958</td>\n      <td>0</td>\n      <td>98001</td>\n      <td>47.3144</td>\n      <td>-122.278</td>\n      <td>1640</td>\n      <td>19166</td>\n    </tr>\n    <tr>\n      <th>2</th>\n      <td>6648760150</td>\n      <td>20140728T000000</td>\n      <td>315000.0</td>\n      <td>3</td>\n      <td>2.50</td>\n      <td>1600</td>\n      <td>7982</td>\n      <td>2.0</td>\n      <td>0</td>\n      <td>0</td>\n      <td>3</td>\n      <td>8</td>\n      <td>1600</td>\n      <td>0</td>\n      <td>1993</td>\n      <td>0</td>\n      <td>98001</td>\n      <td>47.3397</td>\n      <td>-122.266</td>\n      <td>1890</td>\n      <td>9830</td>\n    </tr>\n    <tr>\n      <th>3</th>\n      <td>1807900300</td>\n      <td>20141217T000000</td>\n      <td>830000.0</td>\n      <td>6</td>\n      <td>3.00</td>\n      <td>2530</td>\n      <td>9000</td>\n      <td>1.0</td>\n      <td>0</td>\n      <td>0</td>\n      <td>3</td>\n      <td>6</td>\n      <td>2530</td>\n      <td>0</td>\n      <td>1978</td>\n      <td>0</td>\n      <td>98033</td>\n      <td>47.6716</td>\n      <td>-122.199</td>\n      <td>1886</td>\n      <td>6000</td>\n    </tr>\n    <tr>\n      <th>4</th>\n      <td>4310700778</td>\n      <td>20150210T000000</td>\n      <td>539950.0</td>\n      <td>3</td>\n      <td>2.25</td>\n      <td>1860</td>\n      <td>1558</td>\n      <td>3.0</td>\n      <td>0</td>\n      <td>0</td>\n      <td>3</td>\n      <td>8</td>\n      <td>1860</td>\n      <td>0</td>\n      <td>2014</td>\n      <td>0</td>\n      <td>98103</td>\n      <td>47.7006</td>\n      <td>-122.339</td>\n      <td>1760</td>\n      <td>2456</td>\n    </tr>\n  </tbody>\n</table>\n</div>"
          },
          "metadata": {}
        }
      ]
    },
    {
      "cell_type": "markdown",
      "source": "###3.1",
      "metadata": {}
    },
    {
      "cell_type": "code",
      "source": "df['477500'].min()",
      "metadata": {
        "trusted": true
      },
      "execution_count": 42,
      "outputs": [
        {
          "execution_count": 42,
          "output_type": "execute_result",
          "data": {
            "text/plain": "83000.0"
          },
          "metadata": {}
        }
      ]
    },
    {
      "cell_type": "code",
      "source": "df['477500'].max()",
      "metadata": {
        "trusted": true
      },
      "execution_count": 43,
      "outputs": [
        {
          "execution_count": 43,
          "output_type": "execute_result",
          "data": {
            "text/plain": "3800000.0"
          },
          "metadata": {}
        }
      ]
    },
    {
      "cell_type": "markdown",
      "source": "###3.2 Какую долю в среднем занимают жилая площадь от всей площади по всем домам?",
      "metadata": {}
    },
    {
      "cell_type": "code",
      "source": "df['1.75'].mean()",
      "metadata": {
        "trusted": true
      },
      "execution_count": 45,
      "outputs": [
        {
          "execution_count": 45,
          "output_type": "execute_result",
          "data": {
            "text/plain": "2.3806675938803896"
          },
          "metadata": {}
        }
      ]
    },
    {
      "cell_type": "markdown",
      "source": "###3.3 Как много домов с разными этажами в данных?",
      "metadata": {}
    },
    {
      "cell_type": "code",
      "source": "df['7'].value_counts()",
      "metadata": {
        "trusted": true
      },
      "execution_count": 46,
      "outputs": [
        {
          "execution_count": 46,
          "output_type": "execute_result",
          "data": {
            "text/plain": "8     1276\n7     1133\n9      630\n10     261\n6      174\n11      88\n5       14\n12      13\n4        4\n13       1\n1        1\nName: 7, dtype: int64"
          },
          "metadata": {}
        }
      ]
    },
    {
      "cell_type": "markdown",
      "source": "###3.4 Насколько хорошее состояния у домов в данных?",
      "metadata": {}
    },
    {
      "cell_type": "code",
      "source": "df['3'].value_counts()",
      "metadata": {
        "trusted": true
      },
      "execution_count": 47,
      "outputs": [
        {
          "execution_count": 47,
          "output_type": "execute_result",
          "data": {
            "text/plain": "3    2942\n4     478\n5     157\n2      14\n1       4\nName: 3, dtype: int64"
          },
          "metadata": {}
        }
      ]
    },
    {
      "cell_type": "markdown",
      "source": "### 3.5 Найдите года, когда построили первый дом, когда построили последний дом в данных?",
      "metadata": {}
    },
    {
      "cell_type": "code",
      "source": "df['1953'].min()",
      "metadata": {
        "trusted": true
      },
      "execution_count": 50,
      "outputs": [
        {
          "execution_count": 50,
          "output_type": "execute_result",
          "data": {
            "text/plain": "1900"
          },
          "metadata": {}
        }
      ]
    },
    {
      "cell_type": "code",
      "source": "df['1953'].max()",
      "metadata": {
        "trusted": true
      },
      "execution_count": 51,
      "outputs": [
        {
          "execution_count": 51,
          "output_type": "execute_result",
          "data": {
            "text/plain": "2015"
          },
          "metadata": {}
        }
      ]
    },
    {
      "cell_type": "markdown",
      "source": "## Задание 2.4",
      "metadata": {}
    },
    {
      "cell_type": "markdown",
      "source": "4.1 Сколько в среднем стоят дома, у которых 2 спальни?\n4.2 Какая в среднем общая площадь домов, у которых стоимость больше 600 000?\n4.3 Как много домов коснулся ремонт?\n4.4 Насколько в среднем стоимость домов с оценкой grade выше 10 отличается от стоимости домов с оценкой grade меньше 4?",
      "metadata": {}
    },
    {
      "cell_type": "code",
      "source": "df_bad = df[df['3'] == 2]\ndf_bad",
      "metadata": {
        "trusted": true
      },
      "execution_count": 52,
      "outputs": [
        {
          "execution_count": 52,
          "output_type": "execute_result",
          "data": {
            "text/plain": "      7663700610  20150310T000000    477500  4  1.75  1860    9364    1  0  \\\n88    7428000120  20141210T000000  176000.0  3  2.25  1540    5449  1.0  0   \n224   9828701745  20150123T000000  480000.0  2  1.00   710    4800  1.0  0   \n463   2123049086  20140807T000000  210000.0  2  0.75   840   49658  1.0  0   \n482   6371500120  20141224T000000  325000.0  2  1.00   960    4800  1.5  0   \n783   3336000230  20150323T000000  230005.0  2  1.00  1030    6000  1.0  0   \n824   3624079067  20140508T000000  330000.0  2  2.00  1550  435600  1.5  0   \n1009  5459500165  20140708T000000  623000.0  3  1.75  2050   16313  1.0  0   \n1103  1670400090  20141124T000000  182000.0  3  1.00  1160   18055  1.0  0   \n1216  1324079029  20150317T000000  200000.0  3  1.00   960  213008  1.0  0   \n1281  7883606725  20141111T000000  174900.0  3  1.00  1100    6000  1.5  0   \n1345  9485920120  20140829T000000  290000.0  4  2.50  2340   52272  2.0  0   \n1430  2023059052  20150504T000000  450000.0  3  1.00  1350   92721  1.0  0   \n1494  2023049361  20150323T000000  246500.0  2  1.00   940    6000  1.0  0   \n1603  7205400180  20141223T000000  235000.0  3  1.00  1240   18000  1.0  0   \n\n      0.1  3  7  1080  780  1953  0.2  98125   47.731  -122.301  1800  9364.1  \n88      0  2  7  1180  360  1989    0  98023  47.2900  -122.358  1460    6740  \n224     0  2  6   710    0  1950    0  98112  47.6212  -122.298  1480    1721  \n463     0  2  6   840    0  1948    0  98168  47.4727  -122.292  1240   11000  \n482     0  2  6   960    0  1912    0  98116  47.5752  -122.411  1440    4800  \n783     0  2  7   830  200  1951    0  98118  47.5291  -122.268  1770    5000  \n824     0  2  7  1550    0  1972    0  98065  47.5145  -121.853  1600  217800  \n1009    0  2  8  2050    0  1973    0  98040  47.5743  -122.212  3180   10264  \n1103    0  2  5  1160    0  1950    0  98168  47.4772  -122.269  1340   10324  \n1216    0  2  6   960    0  1933    0  98024  47.5621  -121.862  1520   57499  \n1281    0  2  6  1100    0  1926    0  98108  47.5279  -122.318   960    5880  \n1345    0  2  8  2340    0  1978    0  98042  47.3468  -122.091  2480   40500  \n1430    0  2  6  1200  150  1946    0  98055  47.4657  -122.198  1860    8096  \n1494    0  2  7   940    0  1954    0  98148  47.4631  -122.329  1890    8547  \n1603    0  2  7  1240    0  1943    0  98198  47.3514  -122.315  1240   18000  ",
            "text/html": "<div>\n<style scoped>\n    .dataframe tbody tr th:only-of-type {\n        vertical-align: middle;\n    }\n\n    .dataframe tbody tr th {\n        vertical-align: top;\n    }\n\n    .dataframe thead th {\n        text-align: right;\n    }\n</style>\n<table border=\"1\" class=\"dataframe\">\n  <thead>\n    <tr style=\"text-align: right;\">\n      <th></th>\n      <th>7663700610</th>\n      <th>20150310T000000</th>\n      <th>477500</th>\n      <th>4</th>\n      <th>1.75</th>\n      <th>1860</th>\n      <th>9364</th>\n      <th>1</th>\n      <th>0</th>\n      <th>0.1</th>\n      <th>3</th>\n      <th>7</th>\n      <th>1080</th>\n      <th>780</th>\n      <th>1953</th>\n      <th>0.2</th>\n      <th>98125</th>\n      <th>47.731</th>\n      <th>-122.301</th>\n      <th>1800</th>\n      <th>9364.1</th>\n    </tr>\n  </thead>\n  <tbody>\n    <tr>\n      <th>88</th>\n      <td>7428000120</td>\n      <td>20141210T000000</td>\n      <td>176000.0</td>\n      <td>3</td>\n      <td>2.25</td>\n      <td>1540</td>\n      <td>5449</td>\n      <td>1.0</td>\n      <td>0</td>\n      <td>0</td>\n      <td>2</td>\n      <td>7</td>\n      <td>1180</td>\n      <td>360</td>\n      <td>1989</td>\n      <td>0</td>\n      <td>98023</td>\n      <td>47.2900</td>\n      <td>-122.358</td>\n      <td>1460</td>\n      <td>6740</td>\n    </tr>\n    <tr>\n      <th>224</th>\n      <td>9828701745</td>\n      <td>20150123T000000</td>\n      <td>480000.0</td>\n      <td>2</td>\n      <td>1.00</td>\n      <td>710</td>\n      <td>4800</td>\n      <td>1.0</td>\n      <td>0</td>\n      <td>0</td>\n      <td>2</td>\n      <td>6</td>\n      <td>710</td>\n      <td>0</td>\n      <td>1950</td>\n      <td>0</td>\n      <td>98112</td>\n      <td>47.6212</td>\n      <td>-122.298</td>\n      <td>1480</td>\n      <td>1721</td>\n    </tr>\n    <tr>\n      <th>463</th>\n      <td>2123049086</td>\n      <td>20140807T000000</td>\n      <td>210000.0</td>\n      <td>2</td>\n      <td>0.75</td>\n      <td>840</td>\n      <td>49658</td>\n      <td>1.0</td>\n      <td>0</td>\n      <td>0</td>\n      <td>2</td>\n      <td>6</td>\n      <td>840</td>\n      <td>0</td>\n      <td>1948</td>\n      <td>0</td>\n      <td>98168</td>\n      <td>47.4727</td>\n      <td>-122.292</td>\n      <td>1240</td>\n      <td>11000</td>\n    </tr>\n    <tr>\n      <th>482</th>\n      <td>6371500120</td>\n      <td>20141224T000000</td>\n      <td>325000.0</td>\n      <td>2</td>\n      <td>1.00</td>\n      <td>960</td>\n      <td>4800</td>\n      <td>1.5</td>\n      <td>0</td>\n      <td>0</td>\n      <td>2</td>\n      <td>6</td>\n      <td>960</td>\n      <td>0</td>\n      <td>1912</td>\n      <td>0</td>\n      <td>98116</td>\n      <td>47.5752</td>\n      <td>-122.411</td>\n      <td>1440</td>\n      <td>4800</td>\n    </tr>\n    <tr>\n      <th>783</th>\n      <td>3336000230</td>\n      <td>20150323T000000</td>\n      <td>230005.0</td>\n      <td>2</td>\n      <td>1.00</td>\n      <td>1030</td>\n      <td>6000</td>\n      <td>1.0</td>\n      <td>0</td>\n      <td>0</td>\n      <td>2</td>\n      <td>7</td>\n      <td>830</td>\n      <td>200</td>\n      <td>1951</td>\n      <td>0</td>\n      <td>98118</td>\n      <td>47.5291</td>\n      <td>-122.268</td>\n      <td>1770</td>\n      <td>5000</td>\n    </tr>\n    <tr>\n      <th>824</th>\n      <td>3624079067</td>\n      <td>20140508T000000</td>\n      <td>330000.0</td>\n      <td>2</td>\n      <td>2.00</td>\n      <td>1550</td>\n      <td>435600</td>\n      <td>1.5</td>\n      <td>0</td>\n      <td>0</td>\n      <td>2</td>\n      <td>7</td>\n      <td>1550</td>\n      <td>0</td>\n      <td>1972</td>\n      <td>0</td>\n      <td>98065</td>\n      <td>47.5145</td>\n      <td>-121.853</td>\n      <td>1600</td>\n      <td>217800</td>\n    </tr>\n    <tr>\n      <th>1009</th>\n      <td>5459500165</td>\n      <td>20140708T000000</td>\n      <td>623000.0</td>\n      <td>3</td>\n      <td>1.75</td>\n      <td>2050</td>\n      <td>16313</td>\n      <td>1.0</td>\n      <td>0</td>\n      <td>0</td>\n      <td>2</td>\n      <td>8</td>\n      <td>2050</td>\n      <td>0</td>\n      <td>1973</td>\n      <td>0</td>\n      <td>98040</td>\n      <td>47.5743</td>\n      <td>-122.212</td>\n      <td>3180</td>\n      <td>10264</td>\n    </tr>\n    <tr>\n      <th>1103</th>\n      <td>1670400090</td>\n      <td>20141124T000000</td>\n      <td>182000.0</td>\n      <td>3</td>\n      <td>1.00</td>\n      <td>1160</td>\n      <td>18055</td>\n      <td>1.0</td>\n      <td>0</td>\n      <td>0</td>\n      <td>2</td>\n      <td>5</td>\n      <td>1160</td>\n      <td>0</td>\n      <td>1950</td>\n      <td>0</td>\n      <td>98168</td>\n      <td>47.4772</td>\n      <td>-122.269</td>\n      <td>1340</td>\n      <td>10324</td>\n    </tr>\n    <tr>\n      <th>1216</th>\n      <td>1324079029</td>\n      <td>20150317T000000</td>\n      <td>200000.0</td>\n      <td>3</td>\n      <td>1.00</td>\n      <td>960</td>\n      <td>213008</td>\n      <td>1.0</td>\n      <td>0</td>\n      <td>0</td>\n      <td>2</td>\n      <td>6</td>\n      <td>960</td>\n      <td>0</td>\n      <td>1933</td>\n      <td>0</td>\n      <td>98024</td>\n      <td>47.5621</td>\n      <td>-121.862</td>\n      <td>1520</td>\n      <td>57499</td>\n    </tr>\n    <tr>\n      <th>1281</th>\n      <td>7883606725</td>\n      <td>20141111T000000</td>\n      <td>174900.0</td>\n      <td>3</td>\n      <td>1.00</td>\n      <td>1100</td>\n      <td>6000</td>\n      <td>1.5</td>\n      <td>0</td>\n      <td>0</td>\n      <td>2</td>\n      <td>6</td>\n      <td>1100</td>\n      <td>0</td>\n      <td>1926</td>\n      <td>0</td>\n      <td>98108</td>\n      <td>47.5279</td>\n      <td>-122.318</td>\n      <td>960</td>\n      <td>5880</td>\n    </tr>\n    <tr>\n      <th>1345</th>\n      <td>9485920120</td>\n      <td>20140829T000000</td>\n      <td>290000.0</td>\n      <td>4</td>\n      <td>2.50</td>\n      <td>2340</td>\n      <td>52272</td>\n      <td>2.0</td>\n      <td>0</td>\n      <td>0</td>\n      <td>2</td>\n      <td>8</td>\n      <td>2340</td>\n      <td>0</td>\n      <td>1978</td>\n      <td>0</td>\n      <td>98042</td>\n      <td>47.3468</td>\n      <td>-122.091</td>\n      <td>2480</td>\n      <td>40500</td>\n    </tr>\n    <tr>\n      <th>1430</th>\n      <td>2023059052</td>\n      <td>20150504T000000</td>\n      <td>450000.0</td>\n      <td>3</td>\n      <td>1.00</td>\n      <td>1350</td>\n      <td>92721</td>\n      <td>1.0</td>\n      <td>0</td>\n      <td>0</td>\n      <td>2</td>\n      <td>6</td>\n      <td>1200</td>\n      <td>150</td>\n      <td>1946</td>\n      <td>0</td>\n      <td>98055</td>\n      <td>47.4657</td>\n      <td>-122.198</td>\n      <td>1860</td>\n      <td>8096</td>\n    </tr>\n    <tr>\n      <th>1494</th>\n      <td>2023049361</td>\n      <td>20150323T000000</td>\n      <td>246500.0</td>\n      <td>2</td>\n      <td>1.00</td>\n      <td>940</td>\n      <td>6000</td>\n      <td>1.0</td>\n      <td>0</td>\n      <td>0</td>\n      <td>2</td>\n      <td>7</td>\n      <td>940</td>\n      <td>0</td>\n      <td>1954</td>\n      <td>0</td>\n      <td>98148</td>\n      <td>47.4631</td>\n      <td>-122.329</td>\n      <td>1890</td>\n      <td>8547</td>\n    </tr>\n    <tr>\n      <th>1603</th>\n      <td>7205400180</td>\n      <td>20141223T000000</td>\n      <td>235000.0</td>\n      <td>3</td>\n      <td>1.00</td>\n      <td>1240</td>\n      <td>18000</td>\n      <td>1.0</td>\n      <td>0</td>\n      <td>0</td>\n      <td>2</td>\n      <td>7</td>\n      <td>1240</td>\n      <td>0</td>\n      <td>1943</td>\n      <td>0</td>\n      <td>98198</td>\n      <td>47.3514</td>\n      <td>-122.315</td>\n      <td>1240</td>\n      <td>18000</td>\n    </tr>\n  </tbody>\n</table>\n</div>"
          },
          "metadata": {}
        }
      ]
    },
    {
      "cell_type": "code",
      "source": "df_bad['477500'].mean()",
      "metadata": {
        "trusted": true
      },
      "execution_count": 54,
      "outputs": [
        {
          "execution_count": 54,
          "output_type": "execute_result",
          "data": {
            "text/plain": "296600.35714285716"
          },
          "metadata": {}
        }
      ]
    },
    {
      "cell_type": "markdown",
      "source": "### 4.2 Какая в среднем общая площадь домов, у которых стоимость больше 600 000?",
      "metadata": {}
    },
    {
      "cell_type": "code",
      "source": "df_cost = df[df['477500'] > 600000.0]",
      "metadata": {
        "trusted": true
      },
      "execution_count": 55,
      "outputs": []
    },
    {
      "cell_type": "code",
      "source": "df_cost.head(10)",
      "metadata": {
        "trusted": true
      },
      "execution_count": 56,
      "outputs": [
        {
          "execution_count": 56,
          "output_type": "execute_result",
          "data": {
            "text/plain": "    7663700610  20150310T000000     477500  4  1.75  1860   9364    1  0  0.1  \\\n3   1807900300  20141217T000000   830000.0  6  3.00  2530   9000  1.0  0    0   \n5   5364200620  20140814T000000   980000.0  3  2.25  2390   4590  2.0  0    0   \n6   1939130120  20140718T000000   735000.0  4  2.50  3100   8529  2.0  0    0   \n13  2896000450  20150323T000000   607000.0  4  2.50  2100   8220  1.0  0    0   \n23  2771603990  20140715T000000   625000.0  3  2.00  1880   4000  1.0  0    2   \n32  7701961220  20140626T000000   800000.0  4  2.50  2990  16809  2.0  0    0   \n38  7015200900  20150410T000000   820000.0  4  2.50  2440   5737  2.0  0    0   \n39   736100065  20150310T000000  1250000.0  4  2.25  3300  15375  1.5  0    3   \n51  1561600056  20141017T000000  1735000.0  4  3.50  4010   9654  2.0  0    0   \n53  6392002550  20141022T000000   970000.0  3  2.25  3400  10000  2.0  0    0   \n\n    3   7  1080  780  1953   0.2  98125   47.731  -122.301  1800  9364.1  \n3   3   6  2530    0  1978     0  98033  47.6716  -122.199  1886    6000  \n5   3   8  2090  300  1941  1998  98105  47.6615  -122.276  2280    5179  \n6   3   9  3100    0  1990     0  98074  47.6252  -122.029  2710    8344  \n13  4   8  1300  800  1975     0  98052  47.6733  -122.145  2160    8348  \n23  3   8  1280  600  1950     0  98199  47.6375  -122.391  1920    4000  \n32  3  11  2990    0  1990     0  98077  47.7123  -122.073  3340   18752  \n38  4   8  1700  740  1929     0  98119  47.6472  -122.367  2020    5543  \n39  3   8  2820  480  1933  1984  98040  47.5260  -122.225  3250   15375  \n51  3  10  4010    0  2007     0  98004  47.5891  -122.200  1870    9873  \n53  3  10  3400    0  1983     0  98115  47.6846  -122.284  1860    5100  ",
            "text/html": "<div>\n<style scoped>\n    .dataframe tbody tr th:only-of-type {\n        vertical-align: middle;\n    }\n\n    .dataframe tbody tr th {\n        vertical-align: top;\n    }\n\n    .dataframe thead th {\n        text-align: right;\n    }\n</style>\n<table border=\"1\" class=\"dataframe\">\n  <thead>\n    <tr style=\"text-align: right;\">\n      <th></th>\n      <th>7663700610</th>\n      <th>20150310T000000</th>\n      <th>477500</th>\n      <th>4</th>\n      <th>1.75</th>\n      <th>1860</th>\n      <th>9364</th>\n      <th>1</th>\n      <th>0</th>\n      <th>0.1</th>\n      <th>3</th>\n      <th>7</th>\n      <th>1080</th>\n      <th>780</th>\n      <th>1953</th>\n      <th>0.2</th>\n      <th>98125</th>\n      <th>47.731</th>\n      <th>-122.301</th>\n      <th>1800</th>\n      <th>9364.1</th>\n    </tr>\n  </thead>\n  <tbody>\n    <tr>\n      <th>3</th>\n      <td>1807900300</td>\n      <td>20141217T000000</td>\n      <td>830000.0</td>\n      <td>6</td>\n      <td>3.00</td>\n      <td>2530</td>\n      <td>9000</td>\n      <td>1.0</td>\n      <td>0</td>\n      <td>0</td>\n      <td>3</td>\n      <td>6</td>\n      <td>2530</td>\n      <td>0</td>\n      <td>1978</td>\n      <td>0</td>\n      <td>98033</td>\n      <td>47.6716</td>\n      <td>-122.199</td>\n      <td>1886</td>\n      <td>6000</td>\n    </tr>\n    <tr>\n      <th>5</th>\n      <td>5364200620</td>\n      <td>20140814T000000</td>\n      <td>980000.0</td>\n      <td>3</td>\n      <td>2.25</td>\n      <td>2390</td>\n      <td>4590</td>\n      <td>2.0</td>\n      <td>0</td>\n      <td>0</td>\n      <td>3</td>\n      <td>8</td>\n      <td>2090</td>\n      <td>300</td>\n      <td>1941</td>\n      <td>1998</td>\n      <td>98105</td>\n      <td>47.6615</td>\n      <td>-122.276</td>\n      <td>2280</td>\n      <td>5179</td>\n    </tr>\n    <tr>\n      <th>6</th>\n      <td>1939130120</td>\n      <td>20140718T000000</td>\n      <td>735000.0</td>\n      <td>4</td>\n      <td>2.50</td>\n      <td>3100</td>\n      <td>8529</td>\n      <td>2.0</td>\n      <td>0</td>\n      <td>0</td>\n      <td>3</td>\n      <td>9</td>\n      <td>3100</td>\n      <td>0</td>\n      <td>1990</td>\n      <td>0</td>\n      <td>98074</td>\n      <td>47.6252</td>\n      <td>-122.029</td>\n      <td>2710</td>\n      <td>8344</td>\n    </tr>\n    <tr>\n      <th>13</th>\n      <td>2896000450</td>\n      <td>20150323T000000</td>\n      <td>607000.0</td>\n      <td>4</td>\n      <td>2.50</td>\n      <td>2100</td>\n      <td>8220</td>\n      <td>1.0</td>\n      <td>0</td>\n      <td>0</td>\n      <td>4</td>\n      <td>8</td>\n      <td>1300</td>\n      <td>800</td>\n      <td>1975</td>\n      <td>0</td>\n      <td>98052</td>\n      <td>47.6733</td>\n      <td>-122.145</td>\n      <td>2160</td>\n      <td>8348</td>\n    </tr>\n    <tr>\n      <th>23</th>\n      <td>2771603990</td>\n      <td>20140715T000000</td>\n      <td>625000.0</td>\n      <td>3</td>\n      <td>2.00</td>\n      <td>1880</td>\n      <td>4000</td>\n      <td>1.0</td>\n      <td>0</td>\n      <td>2</td>\n      <td>3</td>\n      <td>8</td>\n      <td>1280</td>\n      <td>600</td>\n      <td>1950</td>\n      <td>0</td>\n      <td>98199</td>\n      <td>47.6375</td>\n      <td>-122.391</td>\n      <td>1920</td>\n      <td>4000</td>\n    </tr>\n    <tr>\n      <th>32</th>\n      <td>7701961220</td>\n      <td>20140626T000000</td>\n      <td>800000.0</td>\n      <td>4</td>\n      <td>2.50</td>\n      <td>2990</td>\n      <td>16809</td>\n      <td>2.0</td>\n      <td>0</td>\n      <td>0</td>\n      <td>3</td>\n      <td>11</td>\n      <td>2990</td>\n      <td>0</td>\n      <td>1990</td>\n      <td>0</td>\n      <td>98077</td>\n      <td>47.7123</td>\n      <td>-122.073</td>\n      <td>3340</td>\n      <td>18752</td>\n    </tr>\n    <tr>\n      <th>38</th>\n      <td>7015200900</td>\n      <td>20150410T000000</td>\n      <td>820000.0</td>\n      <td>4</td>\n      <td>2.50</td>\n      <td>2440</td>\n      <td>5737</td>\n      <td>2.0</td>\n      <td>0</td>\n      <td>0</td>\n      <td>4</td>\n      <td>8</td>\n      <td>1700</td>\n      <td>740</td>\n      <td>1929</td>\n      <td>0</td>\n      <td>98119</td>\n      <td>47.6472</td>\n      <td>-122.367</td>\n      <td>2020</td>\n      <td>5543</td>\n    </tr>\n    <tr>\n      <th>39</th>\n      <td>736100065</td>\n      <td>20150310T000000</td>\n      <td>1250000.0</td>\n      <td>4</td>\n      <td>2.25</td>\n      <td>3300</td>\n      <td>15375</td>\n      <td>1.5</td>\n      <td>0</td>\n      <td>3</td>\n      <td>3</td>\n      <td>8</td>\n      <td>2820</td>\n      <td>480</td>\n      <td>1933</td>\n      <td>1984</td>\n      <td>98040</td>\n      <td>47.5260</td>\n      <td>-122.225</td>\n      <td>3250</td>\n      <td>15375</td>\n    </tr>\n    <tr>\n      <th>51</th>\n      <td>1561600056</td>\n      <td>20141017T000000</td>\n      <td>1735000.0</td>\n      <td>4</td>\n      <td>3.50</td>\n      <td>4010</td>\n      <td>9654</td>\n      <td>2.0</td>\n      <td>0</td>\n      <td>0</td>\n      <td>3</td>\n      <td>10</td>\n      <td>4010</td>\n      <td>0</td>\n      <td>2007</td>\n      <td>0</td>\n      <td>98004</td>\n      <td>47.5891</td>\n      <td>-122.200</td>\n      <td>1870</td>\n      <td>9873</td>\n    </tr>\n    <tr>\n      <th>53</th>\n      <td>6392002550</td>\n      <td>20141022T000000</td>\n      <td>970000.0</td>\n      <td>3</td>\n      <td>2.25</td>\n      <td>3400</td>\n      <td>10000</td>\n      <td>2.0</td>\n      <td>0</td>\n      <td>0</td>\n      <td>3</td>\n      <td>10</td>\n      <td>3400</td>\n      <td>0</td>\n      <td>1983</td>\n      <td>0</td>\n      <td>98115</td>\n      <td>47.6846</td>\n      <td>-122.284</td>\n      <td>1860</td>\n      <td>5100</td>\n    </tr>\n  </tbody>\n</table>\n</div>"
          },
          "metadata": {}
        }
      ]
    },
    {
      "cell_type": "code",
      "source": "df_cost['1860'].mean()",
      "metadata": {
        "trusted": true
      },
      "execution_count": 58,
      "outputs": [
        {
          "execution_count": 58,
          "output_type": "execute_result",
          "data": {
            "text/plain": "3072.7714285714287"
          },
          "metadata": {}
        }
      ]
    },
    {
      "cell_type": "markdown",
      "source": "###4.3 Как много домов коснулся ремонт?",
      "metadata": {}
    },
    {
      "cell_type": "code",
      "source": "df_r = df[df['0'] ==1]",
      "metadata": {
        "trusted": true
      },
      "execution_count": 61,
      "outputs": []
    },
    {
      "cell_type": "code",
      "source": "df_r.shape",
      "metadata": {
        "trusted": true
      },
      "execution_count": 62,
      "outputs": [
        {
          "execution_count": 62,
          "output_type": "execute_result",
          "data": {
            "text/plain": "(22, 21)"
          },
          "metadata": {}
        }
      ]
    },
    {
      "cell_type": "markdown",
      "source": "### 4.4 Насколько в среднем стоимость домов с оценкой grade выше 10 отличается от стоимости домов с оценкой grade меньше 4?",
      "metadata": {}
    },
    {
      "cell_type": "code",
      "source": "df_10 = df[df['7'] >10]\ndf_10",
      "metadata": {
        "trusted": true
      },
      "execution_count": 63,
      "outputs": [
        {
          "execution_count": 63,
          "output_type": "execute_result",
          "data": {
            "text/plain": "      7663700610  20150310T000000     477500  4  1.75  1860    9364    1  0  \\\n32    7701961220  20140626T000000   800000.0  4  2.50  2990   16809  2.0  0   \n83    6648150040  20140513T000000  1680000.0  5  3.25  4860   23723  2.0  0   \n93    3303990410  20141111T000000  1096500.0  5  3.25  4010   12110  2.0  0   \n128   8106100085  20140509T000000  1702500.0  5  4.50  5190   23716  2.0  0   \n181   3625059152  20141230T000000  3300000.0  3  3.25  4220   41300  1.0  1   \n...          ...              ...        ... ..   ...   ...     ...  ... ..   \n3514   324069112  20140617T000000  1325000.0  4  4.00  4420   16526  2.0  0   \n3530  8835770330  20140819T000000  1057000.0  2  1.50  2370  184231  2.0  0   \n3533  1561750040  20141224T000000  1375000.0  5  4.50  4350   13405  2.0  0   \n3572  7430200100  20140514T000000  1222500.0  4  3.50  4910    9444  1.5  0   \n3582   249000205  20141015T000000  1537000.0  5  3.75  4470    8088  2.0  0   \n\n      0.1  3   7  1080   780  1953   0.2  98125   47.731  -122.301  1800  \\\n32      0  3  11  2990     0  1990     0  98077  47.7123  -122.073  3340   \n83      2  4  11  3820  1040  1989     0  98040  47.5767  -122.215  4040   \n93      0  3  11  4010     0  2003     0  98059  47.5228  -122.151  4010   \n128     2  3  11  3390  1800  1987  2000  98040  47.5846  -122.223  4460   \n181     4  4  11  2460  1760  1958  1987  98008  47.6083  -122.110  3810   \n...   ... ..  ..   ...   ...   ...   ...    ...      ...       ...   ...   \n3514    0  3  11  4420     0  2013     0  98075  47.5914  -122.027  3510   \n3530    0  3  11  2370     0  2005     0  98045  47.4543  -121.778  3860   \n3533    0  3  11  4350     0  2014     0  98074  47.6018  -122.060  3990   \n3572    0  3  11  3110  1800  2007     0  98074  47.6502  -122.066  4560   \n3582    0  3  11  4470     0  2008     0  98004  47.6321  -122.200  2780   \n\n      9364.1  \n32     18752  \n83     13860  \n93     12334  \n128    22748  \n181    30401  \n...      ...  \n3514   50447  \n3530  151081  \n3533    7208  \n3572   11063  \n3582    8964  \n\n[102 rows x 21 columns]",
            "text/html": "<div>\n<style scoped>\n    .dataframe tbody tr th:only-of-type {\n        vertical-align: middle;\n    }\n\n    .dataframe tbody tr th {\n        vertical-align: top;\n    }\n\n    .dataframe thead th {\n        text-align: right;\n    }\n</style>\n<table border=\"1\" class=\"dataframe\">\n  <thead>\n    <tr style=\"text-align: right;\">\n      <th></th>\n      <th>7663700610</th>\n      <th>20150310T000000</th>\n      <th>477500</th>\n      <th>4</th>\n      <th>1.75</th>\n      <th>1860</th>\n      <th>9364</th>\n      <th>1</th>\n      <th>0</th>\n      <th>0.1</th>\n      <th>3</th>\n      <th>7</th>\n      <th>1080</th>\n      <th>780</th>\n      <th>1953</th>\n      <th>0.2</th>\n      <th>98125</th>\n      <th>47.731</th>\n      <th>-122.301</th>\n      <th>1800</th>\n      <th>9364.1</th>\n    </tr>\n  </thead>\n  <tbody>\n    <tr>\n      <th>32</th>\n      <td>7701961220</td>\n      <td>20140626T000000</td>\n      <td>800000.0</td>\n      <td>4</td>\n      <td>2.50</td>\n      <td>2990</td>\n      <td>16809</td>\n      <td>2.0</td>\n      <td>0</td>\n      <td>0</td>\n      <td>3</td>\n      <td>11</td>\n      <td>2990</td>\n      <td>0</td>\n      <td>1990</td>\n      <td>0</td>\n      <td>98077</td>\n      <td>47.7123</td>\n      <td>-122.073</td>\n      <td>3340</td>\n      <td>18752</td>\n    </tr>\n    <tr>\n      <th>83</th>\n      <td>6648150040</td>\n      <td>20140513T000000</td>\n      <td>1680000.0</td>\n      <td>5</td>\n      <td>3.25</td>\n      <td>4860</td>\n      <td>23723</td>\n      <td>2.0</td>\n      <td>0</td>\n      <td>2</td>\n      <td>4</td>\n      <td>11</td>\n      <td>3820</td>\n      <td>1040</td>\n      <td>1989</td>\n      <td>0</td>\n      <td>98040</td>\n      <td>47.5767</td>\n      <td>-122.215</td>\n      <td>4040</td>\n      <td>13860</td>\n    </tr>\n    <tr>\n      <th>93</th>\n      <td>3303990410</td>\n      <td>20141111T000000</td>\n      <td>1096500.0</td>\n      <td>5</td>\n      <td>3.25</td>\n      <td>4010</td>\n      <td>12110</td>\n      <td>2.0</td>\n      <td>0</td>\n      <td>0</td>\n      <td>3</td>\n      <td>11</td>\n      <td>4010</td>\n      <td>0</td>\n      <td>2003</td>\n      <td>0</td>\n      <td>98059</td>\n      <td>47.5228</td>\n      <td>-122.151</td>\n      <td>4010</td>\n      <td>12334</td>\n    </tr>\n    <tr>\n      <th>128</th>\n      <td>8106100085</td>\n      <td>20140509T000000</td>\n      <td>1702500.0</td>\n      <td>5</td>\n      <td>4.50</td>\n      <td>5190</td>\n      <td>23716</td>\n      <td>2.0</td>\n      <td>0</td>\n      <td>2</td>\n      <td>3</td>\n      <td>11</td>\n      <td>3390</td>\n      <td>1800</td>\n      <td>1987</td>\n      <td>2000</td>\n      <td>98040</td>\n      <td>47.5846</td>\n      <td>-122.223</td>\n      <td>4460</td>\n      <td>22748</td>\n    </tr>\n    <tr>\n      <th>181</th>\n      <td>3625059152</td>\n      <td>20141230T000000</td>\n      <td>3300000.0</td>\n      <td>3</td>\n      <td>3.25</td>\n      <td>4220</td>\n      <td>41300</td>\n      <td>1.0</td>\n      <td>1</td>\n      <td>4</td>\n      <td>4</td>\n      <td>11</td>\n      <td>2460</td>\n      <td>1760</td>\n      <td>1958</td>\n      <td>1987</td>\n      <td>98008</td>\n      <td>47.6083</td>\n      <td>-122.110</td>\n      <td>3810</td>\n      <td>30401</td>\n    </tr>\n    <tr>\n      <th>...</th>\n      <td>...</td>\n      <td>...</td>\n      <td>...</td>\n      <td>...</td>\n      <td>...</td>\n      <td>...</td>\n      <td>...</td>\n      <td>...</td>\n      <td>...</td>\n      <td>...</td>\n      <td>...</td>\n      <td>...</td>\n      <td>...</td>\n      <td>...</td>\n      <td>...</td>\n      <td>...</td>\n      <td>...</td>\n      <td>...</td>\n      <td>...</td>\n      <td>...</td>\n      <td>...</td>\n    </tr>\n    <tr>\n      <th>3514</th>\n      <td>324069112</td>\n      <td>20140617T000000</td>\n      <td>1325000.0</td>\n      <td>4</td>\n      <td>4.00</td>\n      <td>4420</td>\n      <td>16526</td>\n      <td>2.0</td>\n      <td>0</td>\n      <td>0</td>\n      <td>3</td>\n      <td>11</td>\n      <td>4420</td>\n      <td>0</td>\n      <td>2013</td>\n      <td>0</td>\n      <td>98075</td>\n      <td>47.5914</td>\n      <td>-122.027</td>\n      <td>3510</td>\n      <td>50447</td>\n    </tr>\n    <tr>\n      <th>3530</th>\n      <td>8835770330</td>\n      <td>20140819T000000</td>\n      <td>1057000.0</td>\n      <td>2</td>\n      <td>1.50</td>\n      <td>2370</td>\n      <td>184231</td>\n      <td>2.0</td>\n      <td>0</td>\n      <td>0</td>\n      <td>3</td>\n      <td>11</td>\n      <td>2370</td>\n      <td>0</td>\n      <td>2005</td>\n      <td>0</td>\n      <td>98045</td>\n      <td>47.4543</td>\n      <td>-121.778</td>\n      <td>3860</td>\n      <td>151081</td>\n    </tr>\n    <tr>\n      <th>3533</th>\n      <td>1561750040</td>\n      <td>20141224T000000</td>\n      <td>1375000.0</td>\n      <td>5</td>\n      <td>4.50</td>\n      <td>4350</td>\n      <td>13405</td>\n      <td>2.0</td>\n      <td>0</td>\n      <td>0</td>\n      <td>3</td>\n      <td>11</td>\n      <td>4350</td>\n      <td>0</td>\n      <td>2014</td>\n      <td>0</td>\n      <td>98074</td>\n      <td>47.6018</td>\n      <td>-122.060</td>\n      <td>3990</td>\n      <td>7208</td>\n    </tr>\n    <tr>\n      <th>3572</th>\n      <td>7430200100</td>\n      <td>20140514T000000</td>\n      <td>1222500.0</td>\n      <td>4</td>\n      <td>3.50</td>\n      <td>4910</td>\n      <td>9444</td>\n      <td>1.5</td>\n      <td>0</td>\n      <td>0</td>\n      <td>3</td>\n      <td>11</td>\n      <td>3110</td>\n      <td>1800</td>\n      <td>2007</td>\n      <td>0</td>\n      <td>98074</td>\n      <td>47.6502</td>\n      <td>-122.066</td>\n      <td>4560</td>\n      <td>11063</td>\n    </tr>\n    <tr>\n      <th>3582</th>\n      <td>249000205</td>\n      <td>20141015T000000</td>\n      <td>1537000.0</td>\n      <td>5</td>\n      <td>3.75</td>\n      <td>4470</td>\n      <td>8088</td>\n      <td>2.0</td>\n      <td>0</td>\n      <td>0</td>\n      <td>3</td>\n      <td>11</td>\n      <td>4470</td>\n      <td>0</td>\n      <td>2008</td>\n      <td>0</td>\n      <td>98004</td>\n      <td>47.6321</td>\n      <td>-122.200</td>\n      <td>2780</td>\n      <td>8964</td>\n    </tr>\n  </tbody>\n</table>\n<p>102 rows × 21 columns</p>\n</div>"
          },
          "metadata": {}
        }
      ]
    },
    {
      "cell_type": "code",
      "source": "df_3 = df[df['7'] <4]\ndf_3",
      "metadata": {
        "trusted": true
      },
      "execution_count": 64,
      "outputs": [
        {
          "execution_count": 64,
          "output_type": "execute_result",
          "data": {
            "text/plain": "      7663700610  20150310T000000    477500  4  1.75  1860   9364    1  0  \\\n1434  3980300371  20140926T000000  142000.0  0   0.0   290  20875  1.0  0   \n\n      0.1  3  7  1080  780  1953  0.2  98125   47.731  -122.301  1800  9364.1  \n1434    0  1  1   290    0  1963    0  98024  47.5308  -121.888  1620   22850  ",
            "text/html": "<div>\n<style scoped>\n    .dataframe tbody tr th:only-of-type {\n        vertical-align: middle;\n    }\n\n    .dataframe tbody tr th {\n        vertical-align: top;\n    }\n\n    .dataframe thead th {\n        text-align: right;\n    }\n</style>\n<table border=\"1\" class=\"dataframe\">\n  <thead>\n    <tr style=\"text-align: right;\">\n      <th></th>\n      <th>7663700610</th>\n      <th>20150310T000000</th>\n      <th>477500</th>\n      <th>4</th>\n      <th>1.75</th>\n      <th>1860</th>\n      <th>9364</th>\n      <th>1</th>\n      <th>0</th>\n      <th>0.1</th>\n      <th>3</th>\n      <th>7</th>\n      <th>1080</th>\n      <th>780</th>\n      <th>1953</th>\n      <th>0.2</th>\n      <th>98125</th>\n      <th>47.731</th>\n      <th>-122.301</th>\n      <th>1800</th>\n      <th>9364.1</th>\n    </tr>\n  </thead>\n  <tbody>\n    <tr>\n      <th>1434</th>\n      <td>3980300371</td>\n      <td>20140926T000000</td>\n      <td>142000.0</td>\n      <td>0</td>\n      <td>0.0</td>\n      <td>290</td>\n      <td>20875</td>\n      <td>1.0</td>\n      <td>0</td>\n      <td>0</td>\n      <td>1</td>\n      <td>1</td>\n      <td>290</td>\n      <td>0</td>\n      <td>1963</td>\n      <td>0</td>\n      <td>98024</td>\n      <td>47.5308</td>\n      <td>-121.888</td>\n      <td>1620</td>\n      <td>22850</td>\n    </tr>\n  </tbody>\n</table>\n</div>"
          },
          "metadata": {}
        }
      ]
    },
    {
      "cell_type": "code",
      "source": "price2 = df_10['477500'].mean()",
      "metadata": {
        "trusted": true
      },
      "execution_count": 66,
      "outputs": []
    },
    {
      "cell_type": "code",
      "source": "print(price2)",
      "metadata": {
        "trusted": true
      },
      "execution_count": 67,
      "outputs": [
        {
          "name": "stdout",
          "text": "1777171.1862745099\n",
          "output_type": "stream"
        }
      ]
    },
    {
      "cell_type": "code",
      "source": "price1 = df_3['477500']\nprint(price1)",
      "metadata": {
        "trusted": true
      },
      "execution_count": 74,
      "outputs": [
        {
          "name": "stdout",
          "text": "1434    142000.0\nName: 477500, dtype: float64\n",
          "output_type": "stream"
        }
      ]
    },
    {
      "cell_type": "code",
      "source": "x= price2-price1",
      "metadata": {
        "trusted": true
      },
      "execution_count": 75,
      "outputs": []
    },
    {
      "cell_type": "code",
      "source": "print(x)",
      "metadata": {
        "trusted": true
      },
      "execution_count": 76,
      "outputs": [
        {
          "name": "stdout",
          "text": "1434    1.635171e+06\nName: 477500, dtype: float64\n",
          "output_type": "stream"
        }
      ]
    },
    {
      "cell_type": "markdown",
      "source": "## Задание 2.5",
      "metadata": {}
    },
    {
      "cell_type": "markdown",
      "source": "###5.1 Выберите дом клиенту\nКлиент хочет дом с видом на набережную, как минимум с тремя ванными и с подвалом. Сколько вариантов есть у клиента?",
      "metadata": {}
    },
    {
      "cell_type": "code",
      "source": "df_51 = df[(df['0'] == 1) & (df['3'] < 2) & (df['0.1'] > 0.0)]\ndf_51",
      "metadata": {
        "trusted": true
      },
      "execution_count": 77,
      "outputs": [
        {
          "execution_count": 77,
          "output_type": "execute_result",
          "data": {
            "text/plain": "Empty DataFrame\nColumns: [7663700610, 20150310T000000, 477500, 4, 1.75, 1860, 9364, 1, 0, 0.1, 3, 7, 1080, 780, 1953, 0.2, 98125, 47.731, -122.301, 1800, 9364.1]\nIndex: []",
            "text/html": "<div>\n<style scoped>\n    .dataframe tbody tr th:only-of-type {\n        vertical-align: middle;\n    }\n\n    .dataframe tbody tr th {\n        vertical-align: top;\n    }\n\n    .dataframe thead th {\n        text-align: right;\n    }\n</style>\n<table border=\"1\" class=\"dataframe\">\n  <thead>\n    <tr style=\"text-align: right;\">\n      <th></th>\n      <th>7663700610</th>\n      <th>20150310T000000</th>\n      <th>477500</th>\n      <th>4</th>\n      <th>1.75</th>\n      <th>1860</th>\n      <th>9364</th>\n      <th>1</th>\n      <th>0</th>\n      <th>0.1</th>\n      <th>3</th>\n      <th>7</th>\n      <th>1080</th>\n      <th>780</th>\n      <th>1953</th>\n      <th>0.2</th>\n      <th>98125</th>\n      <th>47.731</th>\n      <th>-122.301</th>\n      <th>1800</th>\n      <th>9364.1</th>\n    </tr>\n  </thead>\n  <tbody>\n  </tbody>\n</table>\n</div>"
          },
          "metadata": {}
        }
      ]
    },
    {
      "cell_type": "markdown",
      "source": "###5.2 Выберите дом клиенту\nКлиент хочет дом либо с очень красивым видом из окна, либо с видом на набережную, в очень хорошем состоянии и год постройки не меньше 1980 года. В какой ценовом диапазоне будут дома?\n",
      "metadata": {}
    },
    {
      "cell_type": "markdown",
      "source": "не могу найти эти столбцы ",
      "metadata": {}
    },
    {
      "cell_type": "markdown",
      "source": "###5.3 Выберите дом клиенту\nКлиент хочет дом без подвала, с двумя этажами, стоимостью до 150000. Какая оценка по состоянию у таких домов в среднем\n",
      "metadata": {}
    },
    {
      "cell_type": "code",
      "source": "df_53 = df[(df['4'] == 2) & (df['477500'] < 150000.0) & (df['0.1'] == 0)]\ndf_53",
      "metadata": {
        "trusted": true
      },
      "execution_count": 81,
      "outputs": [
        {
          "execution_count": 81,
          "output_type": "execute_result",
          "data": {
            "text/plain": "      7663700610  20150310T000000    477500  4  1.75  1860  9364    1  0  0.1  \\\n450   7999600180  20140529T000000   83000.0  2  1.00   900  8580  1.0  0    0   \n490    623049232  20140715T000000  115000.0  2  0.75   550  7980  1.0  0    0   \n1036  3352400661  20141110T000000  135900.0  2  1.00   760  3800  1.0  0    0   \n1080  2114700615  20140708T000000  148000.0  2  1.00   630  4200  1.0  0    0   \n1231  4337600205  20141112T000000  129888.0  2  1.00   710  9900  1.0  0    0   \n2944  1278000210  20150311T000000  110000.0  2  1.00   828  4524  1.0  0    0   \n\n      3  7  1080  780  1953   0.2  98125   47.731  -122.301  1800  9364.1  \n450   3  5   900    0  1918     0  98168  47.4727  -122.270  2060    6533  \n490   3  5   550    0  1952     0  98146  47.5110  -122.348  1330    7980  \n1036  3  6   760    0  1950     0  98178  47.5019  -122.269  1220    7410  \n1080  3  6   630    0  1930     0  98106  47.5329  -122.348   970    4200  \n1231  3  6   710    0  1943     0  98166  47.4790  -122.339  1070    9900  \n2944  3  6   828    0  1968  2007  98001  47.2655  -122.244   828    5402  ",
            "text/html": "<div>\n<style scoped>\n    .dataframe tbody tr th:only-of-type {\n        vertical-align: middle;\n    }\n\n    .dataframe tbody tr th {\n        vertical-align: top;\n    }\n\n    .dataframe thead th {\n        text-align: right;\n    }\n</style>\n<table border=\"1\" class=\"dataframe\">\n  <thead>\n    <tr style=\"text-align: right;\">\n      <th></th>\n      <th>7663700610</th>\n      <th>20150310T000000</th>\n      <th>477500</th>\n      <th>4</th>\n      <th>1.75</th>\n      <th>1860</th>\n      <th>9364</th>\n      <th>1</th>\n      <th>0</th>\n      <th>0.1</th>\n      <th>3</th>\n      <th>7</th>\n      <th>1080</th>\n      <th>780</th>\n      <th>1953</th>\n      <th>0.2</th>\n      <th>98125</th>\n      <th>47.731</th>\n      <th>-122.301</th>\n      <th>1800</th>\n      <th>9364.1</th>\n    </tr>\n  </thead>\n  <tbody>\n    <tr>\n      <th>450</th>\n      <td>7999600180</td>\n      <td>20140529T000000</td>\n      <td>83000.0</td>\n      <td>2</td>\n      <td>1.00</td>\n      <td>900</td>\n      <td>8580</td>\n      <td>1.0</td>\n      <td>0</td>\n      <td>0</td>\n      <td>3</td>\n      <td>5</td>\n      <td>900</td>\n      <td>0</td>\n      <td>1918</td>\n      <td>0</td>\n      <td>98168</td>\n      <td>47.4727</td>\n      <td>-122.270</td>\n      <td>2060</td>\n      <td>6533</td>\n    </tr>\n    <tr>\n      <th>490</th>\n      <td>623049232</td>\n      <td>20140715T000000</td>\n      <td>115000.0</td>\n      <td>2</td>\n      <td>0.75</td>\n      <td>550</td>\n      <td>7980</td>\n      <td>1.0</td>\n      <td>0</td>\n      <td>0</td>\n      <td>3</td>\n      <td>5</td>\n      <td>550</td>\n      <td>0</td>\n      <td>1952</td>\n      <td>0</td>\n      <td>98146</td>\n      <td>47.5110</td>\n      <td>-122.348</td>\n      <td>1330</td>\n      <td>7980</td>\n    </tr>\n    <tr>\n      <th>1036</th>\n      <td>3352400661</td>\n      <td>20141110T000000</td>\n      <td>135900.0</td>\n      <td>2</td>\n      <td>1.00</td>\n      <td>760</td>\n      <td>3800</td>\n      <td>1.0</td>\n      <td>0</td>\n      <td>0</td>\n      <td>3</td>\n      <td>6</td>\n      <td>760</td>\n      <td>0</td>\n      <td>1950</td>\n      <td>0</td>\n      <td>98178</td>\n      <td>47.5019</td>\n      <td>-122.269</td>\n      <td>1220</td>\n      <td>7410</td>\n    </tr>\n    <tr>\n      <th>1080</th>\n      <td>2114700615</td>\n      <td>20140708T000000</td>\n      <td>148000.0</td>\n      <td>2</td>\n      <td>1.00</td>\n      <td>630</td>\n      <td>4200</td>\n      <td>1.0</td>\n      <td>0</td>\n      <td>0</td>\n      <td>3</td>\n      <td>6</td>\n      <td>630</td>\n      <td>0</td>\n      <td>1930</td>\n      <td>0</td>\n      <td>98106</td>\n      <td>47.5329</td>\n      <td>-122.348</td>\n      <td>970</td>\n      <td>4200</td>\n    </tr>\n    <tr>\n      <th>1231</th>\n      <td>4337600205</td>\n      <td>20141112T000000</td>\n      <td>129888.0</td>\n      <td>2</td>\n      <td>1.00</td>\n      <td>710</td>\n      <td>9900</td>\n      <td>1.0</td>\n      <td>0</td>\n      <td>0</td>\n      <td>3</td>\n      <td>6</td>\n      <td>710</td>\n      <td>0</td>\n      <td>1943</td>\n      <td>0</td>\n      <td>98166</td>\n      <td>47.4790</td>\n      <td>-122.339</td>\n      <td>1070</td>\n      <td>9900</td>\n    </tr>\n    <tr>\n      <th>2944</th>\n      <td>1278000210</td>\n      <td>20150311T000000</td>\n      <td>110000.0</td>\n      <td>2</td>\n      <td>1.00</td>\n      <td>828</td>\n      <td>4524</td>\n      <td>1.0</td>\n      <td>0</td>\n      <td>0</td>\n      <td>3</td>\n      <td>6</td>\n      <td>828</td>\n      <td>0</td>\n      <td>1968</td>\n      <td>2007</td>\n      <td>98001</td>\n      <td>47.2655</td>\n      <td>-122.244</td>\n      <td>828</td>\n      <td>5402</td>\n    </tr>\n  </tbody>\n</table>\n</div>"
          },
          "metadata": {}
        }
      ]
    },
    {
      "cell_type": "code",
      "source": "",
      "metadata": {},
      "execution_count": null,
      "outputs": []
    }
  ]
}