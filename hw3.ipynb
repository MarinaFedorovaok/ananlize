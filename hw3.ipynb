{
  "metadata": {
    "language_info": {
      "codemirror_mode": {
        "name": "python",
        "version": 3
      },
      "file_extension": ".py",
      "mimetype": "text/x-python",
      "name": "python",
      "nbconvert_exporter": "python",
      "pygments_lexer": "ipython3",
      "version": "3.8"
    },
    "kernelspec": {
      "name": "python",
      "display_name": "Python (Pyodide)",
      "language": "python"
    }
  },
  "nbformat_minor": 4,
  "nbformat": 4,
  "cells": [
    {
      "cell_type": "markdown",
      "source": "## Задание 3.1",
      "metadata": {}
    },
    {
      "cell_type": "code",
      "source": "1.1 Создать новый признак price_per_sq_lot, который будет содержать среднюю стоимость за один кв. метр общей площади",
      "metadata": {},
      "execution_count": null,
      "outputs": []
    },
    {
      "cell_type": "code",
      "source": "import pandas as pd",
      "metadata": {
        "trusted": true
      },
      "execution_count": 2,
      "outputs": []
    },
    {
      "cell_type": "code",
      "source": "import numpy as np",
      "metadata": {
        "trusted": true
      },
      "execution_count": 19,
      "outputs": []
    },
    {
      "cell_type": "code",
      "source": "df=pd.read_csv('kc_house_data.csv', header = 1)",
      "metadata": {
        "trusted": true
      },
      "execution_count": 33,
      "outputs": []
    },
    {
      "cell_type": "code",
      "source": "#df=pd.read_csv('kc_house_data.csv', sep = ',') так динные выводятня еще хуже. На заголоки не влияет, а вот столбцы слипаются. \n#Пробовала смотреть файл в других редакторах - нет заголовокв",
      "metadata": {
        "trusted": true
      },
      "execution_count": 31,
      "outputs": []
    },
    {
      "cell_type": "code",
      "source": "df.head(5)",
      "metadata": {
        "trusted": true
      },
      "execution_count": 34,
      "outputs": [
        {
          "execution_count": 34,
          "output_type": "execute_result",
          "data": {
            "text/plain": "   7663700610  20150310T000000    477500  4  1.75  1860   9364    1  0  0.1  \\\n0  7520000330  20140813T000000  285000.0  3  2.50  1690   7460  1.0  0    0   \n1  1521049156  20141010T000000  255000.0  3  2.75  1900  16117  1.0  0    0   \n2  6648760150  20140728T000000  315000.0  3  2.50  1600   7982  2.0  0    0   \n3  1807900300  20141217T000000  830000.0  6  3.00  2530   9000  1.0  0    0   \n4  4310700778  20150210T000000  539950.0  3  2.25  1860   1558  3.0  0    0   \n\n   3  7  1080  780  1953  0.2  98125   47.731  -122.301  1800  9364.1  \n0  3  7   870  820  1997    0  98146  47.4964  -122.353  1900    7302  \n1  4  7  1900    0  1958    0  98001  47.3144  -122.278  1640   19166  \n2  3  8  1600    0  1993    0  98001  47.3397  -122.266  1890    9830  \n3  3  6  2530    0  1978    0  98033  47.6716  -122.199  1886    6000  \n4  3  8  1860    0  2014    0  98103  47.7006  -122.339  1760    2456  ",
            "text/html": "<div>\n<style scoped>\n    .dataframe tbody tr th:only-of-type {\n        vertical-align: middle;\n    }\n\n    .dataframe tbody tr th {\n        vertical-align: top;\n    }\n\n    .dataframe thead th {\n        text-align: right;\n    }\n</style>\n<table border=\"1\" class=\"dataframe\">\n  <thead>\n    <tr style=\"text-align: right;\">\n      <th></th>\n      <th>7663700610</th>\n      <th>20150310T000000</th>\n      <th>477500</th>\n      <th>4</th>\n      <th>1.75</th>\n      <th>1860</th>\n      <th>9364</th>\n      <th>1</th>\n      <th>0</th>\n      <th>0.1</th>\n      <th>3</th>\n      <th>7</th>\n      <th>1080</th>\n      <th>780</th>\n      <th>1953</th>\n      <th>0.2</th>\n      <th>98125</th>\n      <th>47.731</th>\n      <th>-122.301</th>\n      <th>1800</th>\n      <th>9364.1</th>\n    </tr>\n  </thead>\n  <tbody>\n    <tr>\n      <th>0</th>\n      <td>7520000330</td>\n      <td>20140813T000000</td>\n      <td>285000.0</td>\n      <td>3</td>\n      <td>2.50</td>\n      <td>1690</td>\n      <td>7460</td>\n      <td>1.0</td>\n      <td>0</td>\n      <td>0</td>\n      <td>3</td>\n      <td>7</td>\n      <td>870</td>\n      <td>820</td>\n      <td>1997</td>\n      <td>0</td>\n      <td>98146</td>\n      <td>47.4964</td>\n      <td>-122.353</td>\n      <td>1900</td>\n      <td>7302</td>\n    </tr>\n    <tr>\n      <th>1</th>\n      <td>1521049156</td>\n      <td>20141010T000000</td>\n      <td>255000.0</td>\n      <td>3</td>\n      <td>2.75</td>\n      <td>1900</td>\n      <td>16117</td>\n      <td>1.0</td>\n      <td>0</td>\n      <td>0</td>\n      <td>4</td>\n      <td>7</td>\n      <td>1900</td>\n      <td>0</td>\n      <td>1958</td>\n      <td>0</td>\n      <td>98001</td>\n      <td>47.3144</td>\n      <td>-122.278</td>\n      <td>1640</td>\n      <td>19166</td>\n    </tr>\n    <tr>\n      <th>2</th>\n      <td>6648760150</td>\n      <td>20140728T000000</td>\n      <td>315000.0</td>\n      <td>3</td>\n      <td>2.50</td>\n      <td>1600</td>\n      <td>7982</td>\n      <td>2.0</td>\n      <td>0</td>\n      <td>0</td>\n      <td>3</td>\n      <td>8</td>\n      <td>1600</td>\n      <td>0</td>\n      <td>1993</td>\n      <td>0</td>\n      <td>98001</td>\n      <td>47.3397</td>\n      <td>-122.266</td>\n      <td>1890</td>\n      <td>9830</td>\n    </tr>\n    <tr>\n      <th>3</th>\n      <td>1807900300</td>\n      <td>20141217T000000</td>\n      <td>830000.0</td>\n      <td>6</td>\n      <td>3.00</td>\n      <td>2530</td>\n      <td>9000</td>\n      <td>1.0</td>\n      <td>0</td>\n      <td>0</td>\n      <td>3</td>\n      <td>6</td>\n      <td>2530</td>\n      <td>0</td>\n      <td>1978</td>\n      <td>0</td>\n      <td>98033</td>\n      <td>47.6716</td>\n      <td>-122.199</td>\n      <td>1886</td>\n      <td>6000</td>\n    </tr>\n    <tr>\n      <th>4</th>\n      <td>4310700778</td>\n      <td>20150210T000000</td>\n      <td>539950.0</td>\n      <td>3</td>\n      <td>2.25</td>\n      <td>1860</td>\n      <td>1558</td>\n      <td>3.0</td>\n      <td>0</td>\n      <td>0</td>\n      <td>3</td>\n      <td>8</td>\n      <td>1860</td>\n      <td>0</td>\n      <td>2014</td>\n      <td>0</td>\n      <td>98103</td>\n      <td>47.7006</td>\n      <td>-122.339</td>\n      <td>1760</td>\n      <td>2456</td>\n    </tr>\n  </tbody>\n</table>\n</div>"
          },
          "metadata": {}
        }
      ]
    },
    {
      "cell_type": "code",
      "source": "pd.set_option('display.max_columns', None)",
      "metadata": {
        "trusted": true
      },
      "execution_count": 25,
      "outputs": []
    },
    {
      "cell_type": "code",
      "source": "df.head(5)",
      "metadata": {
        "trusted": true
      },
      "execution_count": 26,
      "outputs": [
        {
          "execution_count": 26,
          "output_type": "execute_result",
          "data": {
            "text/plain": "   7663700610  20150310T000000    477500  4  1.75  1860   9364    1  0  0.1  \\\n0  7520000330  20140813T000000  285000.0  3  2.50  1690   7460  1.0  0    0   \n1  1521049156  20141010T000000  255000.0  3  2.75  1900  16117  1.0  0    0   \n2  6648760150  20140728T000000  315000.0  3  2.50  1600   7982  2.0  0    0   \n3  1807900300  20141217T000000  830000.0  6  3.00  2530   9000  1.0  0    0   \n4  4310700778  20150210T000000  539950.0  3  2.25  1860   1558  3.0  0    0   \n\n   3  7  1080  780  1953  0.2  98125   47.731  -122.301  1800  9364.1  \n0  3  7   870  820  1997    0  98146  47.4964  -122.353  1900    7302  \n1  4  7  1900    0  1958    0  98001  47.3144  -122.278  1640   19166  \n2  3  8  1600    0  1993    0  98001  47.3397  -122.266  1890    9830  \n3  3  6  2530    0  1978    0  98033  47.6716  -122.199  1886    6000  \n4  3  8  1860    0  2014    0  98103  47.7006  -122.339  1760    2456  ",
            "text/html": "<div>\n<style scoped>\n    .dataframe tbody tr th:only-of-type {\n        vertical-align: middle;\n    }\n\n    .dataframe tbody tr th {\n        vertical-align: top;\n    }\n\n    .dataframe thead th {\n        text-align: right;\n    }\n</style>\n<table border=\"1\" class=\"dataframe\">\n  <thead>\n    <tr style=\"text-align: right;\">\n      <th></th>\n      <th>7663700610</th>\n      <th>20150310T000000</th>\n      <th>477500</th>\n      <th>4</th>\n      <th>1.75</th>\n      <th>1860</th>\n      <th>9364</th>\n      <th>1</th>\n      <th>0</th>\n      <th>0.1</th>\n      <th>3</th>\n      <th>7</th>\n      <th>1080</th>\n      <th>780</th>\n      <th>1953</th>\n      <th>0.2</th>\n      <th>98125</th>\n      <th>47.731</th>\n      <th>-122.301</th>\n      <th>1800</th>\n      <th>9364.1</th>\n    </tr>\n  </thead>\n  <tbody>\n    <tr>\n      <th>0</th>\n      <td>7520000330</td>\n      <td>20140813T000000</td>\n      <td>285000.0</td>\n      <td>3</td>\n      <td>2.50</td>\n      <td>1690</td>\n      <td>7460</td>\n      <td>1.0</td>\n      <td>0</td>\n      <td>0</td>\n      <td>3</td>\n      <td>7</td>\n      <td>870</td>\n      <td>820</td>\n      <td>1997</td>\n      <td>0</td>\n      <td>98146</td>\n      <td>47.4964</td>\n      <td>-122.353</td>\n      <td>1900</td>\n      <td>7302</td>\n    </tr>\n    <tr>\n      <th>1</th>\n      <td>1521049156</td>\n      <td>20141010T000000</td>\n      <td>255000.0</td>\n      <td>3</td>\n      <td>2.75</td>\n      <td>1900</td>\n      <td>16117</td>\n      <td>1.0</td>\n      <td>0</td>\n      <td>0</td>\n      <td>4</td>\n      <td>7</td>\n      <td>1900</td>\n      <td>0</td>\n      <td>1958</td>\n      <td>0</td>\n      <td>98001</td>\n      <td>47.3144</td>\n      <td>-122.278</td>\n      <td>1640</td>\n      <td>19166</td>\n    </tr>\n    <tr>\n      <th>2</th>\n      <td>6648760150</td>\n      <td>20140728T000000</td>\n      <td>315000.0</td>\n      <td>3</td>\n      <td>2.50</td>\n      <td>1600</td>\n      <td>7982</td>\n      <td>2.0</td>\n      <td>0</td>\n      <td>0</td>\n      <td>3</td>\n      <td>8</td>\n      <td>1600</td>\n      <td>0</td>\n      <td>1993</td>\n      <td>0</td>\n      <td>98001</td>\n      <td>47.3397</td>\n      <td>-122.266</td>\n      <td>1890</td>\n      <td>9830</td>\n    </tr>\n    <tr>\n      <th>3</th>\n      <td>1807900300</td>\n      <td>20141217T000000</td>\n      <td>830000.0</td>\n      <td>6</td>\n      <td>3.00</td>\n      <td>2530</td>\n      <td>9000</td>\n      <td>1.0</td>\n      <td>0</td>\n      <td>0</td>\n      <td>3</td>\n      <td>6</td>\n      <td>2530</td>\n      <td>0</td>\n      <td>1978</td>\n      <td>0</td>\n      <td>98033</td>\n      <td>47.6716</td>\n      <td>-122.199</td>\n      <td>1886</td>\n      <td>6000</td>\n    </tr>\n    <tr>\n      <th>4</th>\n      <td>4310700778</td>\n      <td>20150210T000000</td>\n      <td>539950.0</td>\n      <td>3</td>\n      <td>2.25</td>\n      <td>1860</td>\n      <td>1558</td>\n      <td>3.0</td>\n      <td>0</td>\n      <td>0</td>\n      <td>3</td>\n      <td>8</td>\n      <td>1860</td>\n      <td>0</td>\n      <td>2014</td>\n      <td>0</td>\n      <td>98103</td>\n      <td>47.7006</td>\n      <td>-122.339</td>\n      <td>1760</td>\n      <td>2456</td>\n    </tr>\n  </tbody>\n</table>\n</div>"
          },
          "metadata": {}
        }
      ]
    },
    {
      "cell_type": "code",
      "source": "df['price_per_sq_lot'] = 0",
      "metadata": {
        "trusted": true
      },
      "execution_count": 27,
      "outputs": []
    },
    {
      "cell_type": "code",
      "source": "df.head(3)",
      "metadata": {
        "trusted": true
      },
      "execution_count": 28,
      "outputs": [
        {
          "execution_count": 28,
          "output_type": "execute_result",
          "data": {
            "text/plain": "   7663700610  20150310T000000    477500  4  1.75  1860   9364    1  0  0.1  \\\n0  7520000330  20140813T000000  285000.0  3  2.50  1690   7460  1.0  0    0   \n1  1521049156  20141010T000000  255000.0  3  2.75  1900  16117  1.0  0    0   \n2  6648760150  20140728T000000  315000.0  3  2.50  1600   7982  2.0  0    0   \n\n   3  7  1080  780  1953  0.2  98125   47.731  -122.301  1800  9364.1  \\\n0  3  7   870  820  1997    0  98146  47.4964  -122.353  1900    7302   \n1  4  7  1900    0  1958    0  98001  47.3144  -122.278  1640   19166   \n2  3  8  1600    0  1993    0  98001  47.3397  -122.266  1890    9830   \n\n   price_per_sq_lot  \n0                 0  \n1                 0  \n2                 0  ",
            "text/html": "<div>\n<style scoped>\n    .dataframe tbody tr th:only-of-type {\n        vertical-align: middle;\n    }\n\n    .dataframe tbody tr th {\n        vertical-align: top;\n    }\n\n    .dataframe thead th {\n        text-align: right;\n    }\n</style>\n<table border=\"1\" class=\"dataframe\">\n  <thead>\n    <tr style=\"text-align: right;\">\n      <th></th>\n      <th>7663700610</th>\n      <th>20150310T000000</th>\n      <th>477500</th>\n      <th>4</th>\n      <th>1.75</th>\n      <th>1860</th>\n      <th>9364</th>\n      <th>1</th>\n      <th>0</th>\n      <th>0.1</th>\n      <th>3</th>\n      <th>7</th>\n      <th>1080</th>\n      <th>780</th>\n      <th>1953</th>\n      <th>0.2</th>\n      <th>98125</th>\n      <th>47.731</th>\n      <th>-122.301</th>\n      <th>1800</th>\n      <th>9364.1</th>\n      <th>price_per_sq_lot</th>\n    </tr>\n  </thead>\n  <tbody>\n    <tr>\n      <th>0</th>\n      <td>7520000330</td>\n      <td>20140813T000000</td>\n      <td>285000.0</td>\n      <td>3</td>\n      <td>2.50</td>\n      <td>1690</td>\n      <td>7460</td>\n      <td>1.0</td>\n      <td>0</td>\n      <td>0</td>\n      <td>3</td>\n      <td>7</td>\n      <td>870</td>\n      <td>820</td>\n      <td>1997</td>\n      <td>0</td>\n      <td>98146</td>\n      <td>47.4964</td>\n      <td>-122.353</td>\n      <td>1900</td>\n      <td>7302</td>\n      <td>0</td>\n    </tr>\n    <tr>\n      <th>1</th>\n      <td>1521049156</td>\n      <td>20141010T000000</td>\n      <td>255000.0</td>\n      <td>3</td>\n      <td>2.75</td>\n      <td>1900</td>\n      <td>16117</td>\n      <td>1.0</td>\n      <td>0</td>\n      <td>0</td>\n      <td>4</td>\n      <td>7</td>\n      <td>1900</td>\n      <td>0</td>\n      <td>1958</td>\n      <td>0</td>\n      <td>98001</td>\n      <td>47.3144</td>\n      <td>-122.278</td>\n      <td>1640</td>\n      <td>19166</td>\n      <td>0</td>\n    </tr>\n    <tr>\n      <th>2</th>\n      <td>6648760150</td>\n      <td>20140728T000000</td>\n      <td>315000.0</td>\n      <td>3</td>\n      <td>2.50</td>\n      <td>1600</td>\n      <td>7982</td>\n      <td>2.0</td>\n      <td>0</td>\n      <td>0</td>\n      <td>3</td>\n      <td>8</td>\n      <td>1600</td>\n      <td>0</td>\n      <td>1993</td>\n      <td>0</td>\n      <td>98001</td>\n      <td>47.3397</td>\n      <td>-122.266</td>\n      <td>1890</td>\n      <td>9830</td>\n      <td>0</td>\n    </tr>\n  </tbody>\n</table>\n</div>"
          },
          "metadata": {}
        }
      ]
    },
    {
      "cell_type": "code",
      "source": "#def med_cost(x):\n    ",
      "metadata": {},
      "execution_count": null,
      "outputs": []
    },
    {
      "cell_type": "code",
      "source": "df['price_per_sq_lot'] = df['477500']/df['1080']",
      "metadata": {
        "trusted": true
      },
      "execution_count": 36,
      "outputs": []
    },
    {
      "cell_type": "code",
      "source": "df.head(5)",
      "metadata": {
        "trusted": true
      },
      "execution_count": 37,
      "outputs": [
        {
          "execution_count": 37,
          "output_type": "execute_result",
          "data": {
            "text/plain": "   7663700610  20150310T000000    477500  4  1.75  1860   9364    1  0  0.1  \\\n0  7520000330  20140813T000000  285000.0  3  2.50  1690   7460  1.0  0    0   \n1  1521049156  20141010T000000  255000.0  3  2.75  1900  16117  1.0  0    0   \n2  6648760150  20140728T000000  315000.0  3  2.50  1600   7982  2.0  0    0   \n3  1807900300  20141217T000000  830000.0  6  3.00  2530   9000  1.0  0    0   \n4  4310700778  20150210T000000  539950.0  3  2.25  1860   1558  3.0  0    0   \n\n   3  7  1080  780  1953  0.2  98125   47.731  -122.301  1800  9364.1  \\\n0  3  7   870  820  1997    0  98146  47.4964  -122.353  1900    7302   \n1  4  7  1900    0  1958    0  98001  47.3144  -122.278  1640   19166   \n2  3  8  1600    0  1993    0  98001  47.3397  -122.266  1890    9830   \n3  3  6  2530    0  1978    0  98033  47.6716  -122.199  1886    6000   \n4  3  8  1860    0  2014    0  98103  47.7006  -122.339  1760    2456   \n\n   price_per_sq_lot  \n0        327.586207  \n1        134.210526  \n2        196.875000  \n3        328.063241  \n4        290.295699  ",
            "text/html": "<div>\n<style scoped>\n    .dataframe tbody tr th:only-of-type {\n        vertical-align: middle;\n    }\n\n    .dataframe tbody tr th {\n        vertical-align: top;\n    }\n\n    .dataframe thead th {\n        text-align: right;\n    }\n</style>\n<table border=\"1\" class=\"dataframe\">\n  <thead>\n    <tr style=\"text-align: right;\">\n      <th></th>\n      <th>7663700610</th>\n      <th>20150310T000000</th>\n      <th>477500</th>\n      <th>4</th>\n      <th>1.75</th>\n      <th>1860</th>\n      <th>9364</th>\n      <th>1</th>\n      <th>0</th>\n      <th>0.1</th>\n      <th>3</th>\n      <th>7</th>\n      <th>1080</th>\n      <th>780</th>\n      <th>1953</th>\n      <th>0.2</th>\n      <th>98125</th>\n      <th>47.731</th>\n      <th>-122.301</th>\n      <th>1800</th>\n      <th>9364.1</th>\n      <th>price_per_sq_lot</th>\n    </tr>\n  </thead>\n  <tbody>\n    <tr>\n      <th>0</th>\n      <td>7520000330</td>\n      <td>20140813T000000</td>\n      <td>285000.0</td>\n      <td>3</td>\n      <td>2.50</td>\n      <td>1690</td>\n      <td>7460</td>\n      <td>1.0</td>\n      <td>0</td>\n      <td>0</td>\n      <td>3</td>\n      <td>7</td>\n      <td>870</td>\n      <td>820</td>\n      <td>1997</td>\n      <td>0</td>\n      <td>98146</td>\n      <td>47.4964</td>\n      <td>-122.353</td>\n      <td>1900</td>\n      <td>7302</td>\n      <td>327.586207</td>\n    </tr>\n    <tr>\n      <th>1</th>\n      <td>1521049156</td>\n      <td>20141010T000000</td>\n      <td>255000.0</td>\n      <td>3</td>\n      <td>2.75</td>\n      <td>1900</td>\n      <td>16117</td>\n      <td>1.0</td>\n      <td>0</td>\n      <td>0</td>\n      <td>4</td>\n      <td>7</td>\n      <td>1900</td>\n      <td>0</td>\n      <td>1958</td>\n      <td>0</td>\n      <td>98001</td>\n      <td>47.3144</td>\n      <td>-122.278</td>\n      <td>1640</td>\n      <td>19166</td>\n      <td>134.210526</td>\n    </tr>\n    <tr>\n      <th>2</th>\n      <td>6648760150</td>\n      <td>20140728T000000</td>\n      <td>315000.0</td>\n      <td>3</td>\n      <td>2.50</td>\n      <td>1600</td>\n      <td>7982</td>\n      <td>2.0</td>\n      <td>0</td>\n      <td>0</td>\n      <td>3</td>\n      <td>8</td>\n      <td>1600</td>\n      <td>0</td>\n      <td>1993</td>\n      <td>0</td>\n      <td>98001</td>\n      <td>47.3397</td>\n      <td>-122.266</td>\n      <td>1890</td>\n      <td>9830</td>\n      <td>196.875000</td>\n    </tr>\n    <tr>\n      <th>3</th>\n      <td>1807900300</td>\n      <td>20141217T000000</td>\n      <td>830000.0</td>\n      <td>6</td>\n      <td>3.00</td>\n      <td>2530</td>\n      <td>9000</td>\n      <td>1.0</td>\n      <td>0</td>\n      <td>0</td>\n      <td>3</td>\n      <td>6</td>\n      <td>2530</td>\n      <td>0</td>\n      <td>1978</td>\n      <td>0</td>\n      <td>98033</td>\n      <td>47.6716</td>\n      <td>-122.199</td>\n      <td>1886</td>\n      <td>6000</td>\n      <td>328.063241</td>\n    </tr>\n    <tr>\n      <th>4</th>\n      <td>4310700778</td>\n      <td>20150210T000000</td>\n      <td>539950.0</td>\n      <td>3</td>\n      <td>2.25</td>\n      <td>1860</td>\n      <td>1558</td>\n      <td>3.0</td>\n      <td>0</td>\n      <td>0</td>\n      <td>3</td>\n      <td>8</td>\n      <td>1860</td>\n      <td>0</td>\n      <td>2014</td>\n      <td>0</td>\n      <td>98103</td>\n      <td>47.7006</td>\n      <td>-122.339</td>\n      <td>1760</td>\n      <td>2456</td>\n      <td>290.295699</td>\n    </tr>\n  </tbody>\n</table>\n</div>"
          },
          "metadata": {}
        }
      ]
    },
    {
      "cell_type": "markdown",
      "source": "### 1.2 Создать новый признак delta_renovated, который будет содержать разницу в годах между годом реновацией дома и годом постройки дома. Если реновации дома не было, то в новом признаке поставьте 0",
      "metadata": {}
    },
    {
      "cell_type": "code",
      "source": "df['delta_renovated'] = 0",
      "metadata": {
        "trusted": true
      },
      "execution_count": 38,
      "outputs": []
    },
    {
      "cell_type": "code",
      "source": "df['delta_renovated'] = df['1953']-df['1860']",
      "metadata": {
        "trusted": true
      },
      "execution_count": 39,
      "outputs": []
    },
    {
      "cell_type": "code",
      "source": "df.head(5)",
      "metadata": {
        "trusted": true
      },
      "execution_count": 40,
      "outputs": [
        {
          "execution_count": 40,
          "output_type": "execute_result",
          "data": {
            "text/plain": "   7663700610  20150310T000000    477500  4  1.75  1860   9364    1  0  0.1  \\\n0  7520000330  20140813T000000  285000.0  3  2.50  1690   7460  1.0  0    0   \n1  1521049156  20141010T000000  255000.0  3  2.75  1900  16117  1.0  0    0   \n2  6648760150  20140728T000000  315000.0  3  2.50  1600   7982  2.0  0    0   \n3  1807900300  20141217T000000  830000.0  6  3.00  2530   9000  1.0  0    0   \n4  4310700778  20150210T000000  539950.0  3  2.25  1860   1558  3.0  0    0   \n\n   3  7  1080  780  1953  0.2  98125   47.731  -122.301  1800  9364.1  \\\n0  3  7   870  820  1997    0  98146  47.4964  -122.353  1900    7302   \n1  4  7  1900    0  1958    0  98001  47.3144  -122.278  1640   19166   \n2  3  8  1600    0  1993    0  98001  47.3397  -122.266  1890    9830   \n3  3  6  2530    0  1978    0  98033  47.6716  -122.199  1886    6000   \n4  3  8  1860    0  2014    0  98103  47.7006  -122.339  1760    2456   \n\n   price_per_sq_lot  delta_renovated  \n0        327.586207              307  \n1        134.210526               58  \n2        196.875000              393  \n3        328.063241             -552  \n4        290.295699              154  ",
            "text/html": "<div>\n<style scoped>\n    .dataframe tbody tr th:only-of-type {\n        vertical-align: middle;\n    }\n\n    .dataframe tbody tr th {\n        vertical-align: top;\n    }\n\n    .dataframe thead th {\n        text-align: right;\n    }\n</style>\n<table border=\"1\" class=\"dataframe\">\n  <thead>\n    <tr style=\"text-align: right;\">\n      <th></th>\n      <th>7663700610</th>\n      <th>20150310T000000</th>\n      <th>477500</th>\n      <th>4</th>\n      <th>1.75</th>\n      <th>1860</th>\n      <th>9364</th>\n      <th>1</th>\n      <th>0</th>\n      <th>0.1</th>\n      <th>3</th>\n      <th>7</th>\n      <th>1080</th>\n      <th>780</th>\n      <th>1953</th>\n      <th>0.2</th>\n      <th>98125</th>\n      <th>47.731</th>\n      <th>-122.301</th>\n      <th>1800</th>\n      <th>9364.1</th>\n      <th>price_per_sq_lot</th>\n      <th>delta_renovated</th>\n    </tr>\n  </thead>\n  <tbody>\n    <tr>\n      <th>0</th>\n      <td>7520000330</td>\n      <td>20140813T000000</td>\n      <td>285000.0</td>\n      <td>3</td>\n      <td>2.50</td>\n      <td>1690</td>\n      <td>7460</td>\n      <td>1.0</td>\n      <td>0</td>\n      <td>0</td>\n      <td>3</td>\n      <td>7</td>\n      <td>870</td>\n      <td>820</td>\n      <td>1997</td>\n      <td>0</td>\n      <td>98146</td>\n      <td>47.4964</td>\n      <td>-122.353</td>\n      <td>1900</td>\n      <td>7302</td>\n      <td>327.586207</td>\n      <td>307</td>\n    </tr>\n    <tr>\n      <th>1</th>\n      <td>1521049156</td>\n      <td>20141010T000000</td>\n      <td>255000.0</td>\n      <td>3</td>\n      <td>2.75</td>\n      <td>1900</td>\n      <td>16117</td>\n      <td>1.0</td>\n      <td>0</td>\n      <td>0</td>\n      <td>4</td>\n      <td>7</td>\n      <td>1900</td>\n      <td>0</td>\n      <td>1958</td>\n      <td>0</td>\n      <td>98001</td>\n      <td>47.3144</td>\n      <td>-122.278</td>\n      <td>1640</td>\n      <td>19166</td>\n      <td>134.210526</td>\n      <td>58</td>\n    </tr>\n    <tr>\n      <th>2</th>\n      <td>6648760150</td>\n      <td>20140728T000000</td>\n      <td>315000.0</td>\n      <td>3</td>\n      <td>2.50</td>\n      <td>1600</td>\n      <td>7982</td>\n      <td>2.0</td>\n      <td>0</td>\n      <td>0</td>\n      <td>3</td>\n      <td>8</td>\n      <td>1600</td>\n      <td>0</td>\n      <td>1993</td>\n      <td>0</td>\n      <td>98001</td>\n      <td>47.3397</td>\n      <td>-122.266</td>\n      <td>1890</td>\n      <td>9830</td>\n      <td>196.875000</td>\n      <td>393</td>\n    </tr>\n    <tr>\n      <th>3</th>\n      <td>1807900300</td>\n      <td>20141217T000000</td>\n      <td>830000.0</td>\n      <td>6</td>\n      <td>3.00</td>\n      <td>2530</td>\n      <td>9000</td>\n      <td>1.0</td>\n      <td>0</td>\n      <td>0</td>\n      <td>3</td>\n      <td>6</td>\n      <td>2530</td>\n      <td>0</td>\n      <td>1978</td>\n      <td>0</td>\n      <td>98033</td>\n      <td>47.6716</td>\n      <td>-122.199</td>\n      <td>1886</td>\n      <td>6000</td>\n      <td>328.063241</td>\n      <td>-552</td>\n    </tr>\n    <tr>\n      <th>4</th>\n      <td>4310700778</td>\n      <td>20150210T000000</td>\n      <td>539950.0</td>\n      <td>3</td>\n      <td>2.25</td>\n      <td>1860</td>\n      <td>1558</td>\n      <td>3.0</td>\n      <td>0</td>\n      <td>0</td>\n      <td>3</td>\n      <td>8</td>\n      <td>1860</td>\n      <td>0</td>\n      <td>2014</td>\n      <td>0</td>\n      <td>98103</td>\n      <td>47.7006</td>\n      <td>-122.339</td>\n      <td>1760</td>\n      <td>2456</td>\n      <td>290.295699</td>\n      <td>154</td>\n    </tr>\n  </tbody>\n</table>\n</div>"
          },
          "metadata": {}
        }
      ]
    },
    {
      "cell_type": "code",
      "source": "df.loc[(df.delta_renovated < 0), 'delta_renovated'] = 0\n",
      "metadata": {
        "trusted": true
      },
      "execution_count": 41,
      "outputs": []
    },
    {
      "cell_type": "code",
      "source": "df.head(5)",
      "metadata": {
        "trusted": true
      },
      "execution_count": 42,
      "outputs": [
        {
          "execution_count": 42,
          "output_type": "execute_result",
          "data": {
            "text/plain": "   7663700610  20150310T000000    477500  4  1.75  1860   9364    1  0  0.1  \\\n0  7520000330  20140813T000000  285000.0  3  2.50  1690   7460  1.0  0    0   \n1  1521049156  20141010T000000  255000.0  3  2.75  1900  16117  1.0  0    0   \n2  6648760150  20140728T000000  315000.0  3  2.50  1600   7982  2.0  0    0   \n3  1807900300  20141217T000000  830000.0  6  3.00  2530   9000  1.0  0    0   \n4  4310700778  20150210T000000  539950.0  3  2.25  1860   1558  3.0  0    0   \n\n   3  7  1080  780  1953  0.2  98125   47.731  -122.301  1800  9364.1  \\\n0  3  7   870  820  1997    0  98146  47.4964  -122.353  1900    7302   \n1  4  7  1900    0  1958    0  98001  47.3144  -122.278  1640   19166   \n2  3  8  1600    0  1993    0  98001  47.3397  -122.266  1890    9830   \n3  3  6  2530    0  1978    0  98033  47.6716  -122.199  1886    6000   \n4  3  8  1860    0  2014    0  98103  47.7006  -122.339  1760    2456   \n\n   price_per_sq_lot  delta_renovated  \n0        327.586207              307  \n1        134.210526               58  \n2        196.875000              393  \n3        328.063241                0  \n4        290.295699              154  ",
            "text/html": "<div>\n<style scoped>\n    .dataframe tbody tr th:only-of-type {\n        vertical-align: middle;\n    }\n\n    .dataframe tbody tr th {\n        vertical-align: top;\n    }\n\n    .dataframe thead th {\n        text-align: right;\n    }\n</style>\n<table border=\"1\" class=\"dataframe\">\n  <thead>\n    <tr style=\"text-align: right;\">\n      <th></th>\n      <th>7663700610</th>\n      <th>20150310T000000</th>\n      <th>477500</th>\n      <th>4</th>\n      <th>1.75</th>\n      <th>1860</th>\n      <th>9364</th>\n      <th>1</th>\n      <th>0</th>\n      <th>0.1</th>\n      <th>3</th>\n      <th>7</th>\n      <th>1080</th>\n      <th>780</th>\n      <th>1953</th>\n      <th>0.2</th>\n      <th>98125</th>\n      <th>47.731</th>\n      <th>-122.301</th>\n      <th>1800</th>\n      <th>9364.1</th>\n      <th>price_per_sq_lot</th>\n      <th>delta_renovated</th>\n    </tr>\n  </thead>\n  <tbody>\n    <tr>\n      <th>0</th>\n      <td>7520000330</td>\n      <td>20140813T000000</td>\n      <td>285000.0</td>\n      <td>3</td>\n      <td>2.50</td>\n      <td>1690</td>\n      <td>7460</td>\n      <td>1.0</td>\n      <td>0</td>\n      <td>0</td>\n      <td>3</td>\n      <td>7</td>\n      <td>870</td>\n      <td>820</td>\n      <td>1997</td>\n      <td>0</td>\n      <td>98146</td>\n      <td>47.4964</td>\n      <td>-122.353</td>\n      <td>1900</td>\n      <td>7302</td>\n      <td>327.586207</td>\n      <td>307</td>\n    </tr>\n    <tr>\n      <th>1</th>\n      <td>1521049156</td>\n      <td>20141010T000000</td>\n      <td>255000.0</td>\n      <td>3</td>\n      <td>2.75</td>\n      <td>1900</td>\n      <td>16117</td>\n      <td>1.0</td>\n      <td>0</td>\n      <td>0</td>\n      <td>4</td>\n      <td>7</td>\n      <td>1900</td>\n      <td>0</td>\n      <td>1958</td>\n      <td>0</td>\n      <td>98001</td>\n      <td>47.3144</td>\n      <td>-122.278</td>\n      <td>1640</td>\n      <td>19166</td>\n      <td>134.210526</td>\n      <td>58</td>\n    </tr>\n    <tr>\n      <th>2</th>\n      <td>6648760150</td>\n      <td>20140728T000000</td>\n      <td>315000.0</td>\n      <td>3</td>\n      <td>2.50</td>\n      <td>1600</td>\n      <td>7982</td>\n      <td>2.0</td>\n      <td>0</td>\n      <td>0</td>\n      <td>3</td>\n      <td>8</td>\n      <td>1600</td>\n      <td>0</td>\n      <td>1993</td>\n      <td>0</td>\n      <td>98001</td>\n      <td>47.3397</td>\n      <td>-122.266</td>\n      <td>1890</td>\n      <td>9830</td>\n      <td>196.875000</td>\n      <td>393</td>\n    </tr>\n    <tr>\n      <th>3</th>\n      <td>1807900300</td>\n      <td>20141217T000000</td>\n      <td>830000.0</td>\n      <td>6</td>\n      <td>3.00</td>\n      <td>2530</td>\n      <td>9000</td>\n      <td>1.0</td>\n      <td>0</td>\n      <td>0</td>\n      <td>3</td>\n      <td>6</td>\n      <td>2530</td>\n      <td>0</td>\n      <td>1978</td>\n      <td>0</td>\n      <td>98033</td>\n      <td>47.6716</td>\n      <td>-122.199</td>\n      <td>1886</td>\n      <td>6000</td>\n      <td>328.063241</td>\n      <td>0</td>\n    </tr>\n    <tr>\n      <th>4</th>\n      <td>4310700778</td>\n      <td>20150210T000000</td>\n      <td>539950.0</td>\n      <td>3</td>\n      <td>2.25</td>\n      <td>1860</td>\n      <td>1558</td>\n      <td>3.0</td>\n      <td>0</td>\n      <td>0</td>\n      <td>3</td>\n      <td>8</td>\n      <td>1860</td>\n      <td>0</td>\n      <td>2014</td>\n      <td>0</td>\n      <td>98103</td>\n      <td>47.7006</td>\n      <td>-122.339</td>\n      <td>1760</td>\n      <td>2456</td>\n      <td>290.295699</td>\n      <td>154</td>\n    </tr>\n  </tbody>\n</table>\n</div>"
          },
          "metadata": {}
        }
      ]
    },
    {
      "cell_type": "markdown",
      "source": "###1.3 Создайте признаки года продажи, месяца продажи",
      "metadata": {}
    },
    {
      "cell_type": "code",
      "source": "df['год продажи'] = 0",
      "metadata": {
        "trusted": true
      },
      "execution_count": 43,
      "outputs": []
    },
    {
      "cell_type": "code",
      "source": "df['месяц продажи'] = 0",
      "metadata": {
        "trusted": true
      },
      "execution_count": 44,
      "outputs": []
    },
    {
      "cell_type": "code",
      "source": "df.head(3)",
      "metadata": {
        "trusted": true
      },
      "execution_count": 45,
      "outputs": [
        {
          "execution_count": 45,
          "output_type": "execute_result",
          "data": {
            "text/plain": "   7663700610  20150310T000000    477500  4  1.75  1860   9364    1  0  0.1  \\\n0  7520000330  20140813T000000  285000.0  3  2.50  1690   7460  1.0  0    0   \n1  1521049156  20141010T000000  255000.0  3  2.75  1900  16117  1.0  0    0   \n2  6648760150  20140728T000000  315000.0  3  2.50  1600   7982  2.0  0    0   \n\n   3  7  1080  780  1953  0.2  98125   47.731  -122.301  1800  9364.1  \\\n0  3  7   870  820  1997    0  98146  47.4964  -122.353  1900    7302   \n1  4  7  1900    0  1958    0  98001  47.3144  -122.278  1640   19166   \n2  3  8  1600    0  1993    0  98001  47.3397  -122.266  1890    9830   \n\n   price_per_sq_lot  delta_renovated  год продажи  месяц продажи  \n0        327.586207              307            0              0  \n1        134.210526               58            0              0  \n2        196.875000              393            0              0  ",
            "text/html": "<div>\n<style scoped>\n    .dataframe tbody tr th:only-of-type {\n        vertical-align: middle;\n    }\n\n    .dataframe tbody tr th {\n        vertical-align: top;\n    }\n\n    .dataframe thead th {\n        text-align: right;\n    }\n</style>\n<table border=\"1\" class=\"dataframe\">\n  <thead>\n    <tr style=\"text-align: right;\">\n      <th></th>\n      <th>7663700610</th>\n      <th>20150310T000000</th>\n      <th>477500</th>\n      <th>4</th>\n      <th>1.75</th>\n      <th>1860</th>\n      <th>9364</th>\n      <th>1</th>\n      <th>0</th>\n      <th>0.1</th>\n      <th>3</th>\n      <th>7</th>\n      <th>1080</th>\n      <th>780</th>\n      <th>1953</th>\n      <th>0.2</th>\n      <th>98125</th>\n      <th>47.731</th>\n      <th>-122.301</th>\n      <th>1800</th>\n      <th>9364.1</th>\n      <th>price_per_sq_lot</th>\n      <th>delta_renovated</th>\n      <th>год продажи</th>\n      <th>месяц продажи</th>\n    </tr>\n  </thead>\n  <tbody>\n    <tr>\n      <th>0</th>\n      <td>7520000330</td>\n      <td>20140813T000000</td>\n      <td>285000.0</td>\n      <td>3</td>\n      <td>2.50</td>\n      <td>1690</td>\n      <td>7460</td>\n      <td>1.0</td>\n      <td>0</td>\n      <td>0</td>\n      <td>3</td>\n      <td>7</td>\n      <td>870</td>\n      <td>820</td>\n      <td>1997</td>\n      <td>0</td>\n      <td>98146</td>\n      <td>47.4964</td>\n      <td>-122.353</td>\n      <td>1900</td>\n      <td>7302</td>\n      <td>327.586207</td>\n      <td>307</td>\n      <td>0</td>\n      <td>0</td>\n    </tr>\n    <tr>\n      <th>1</th>\n      <td>1521049156</td>\n      <td>20141010T000000</td>\n      <td>255000.0</td>\n      <td>3</td>\n      <td>2.75</td>\n      <td>1900</td>\n      <td>16117</td>\n      <td>1.0</td>\n      <td>0</td>\n      <td>0</td>\n      <td>4</td>\n      <td>7</td>\n      <td>1900</td>\n      <td>0</td>\n      <td>1958</td>\n      <td>0</td>\n      <td>98001</td>\n      <td>47.3144</td>\n      <td>-122.278</td>\n      <td>1640</td>\n      <td>19166</td>\n      <td>134.210526</td>\n      <td>58</td>\n      <td>0</td>\n      <td>0</td>\n    </tr>\n    <tr>\n      <th>2</th>\n      <td>6648760150</td>\n      <td>20140728T000000</td>\n      <td>315000.0</td>\n      <td>3</td>\n      <td>2.50</td>\n      <td>1600</td>\n      <td>7982</td>\n      <td>2.0</td>\n      <td>0</td>\n      <td>0</td>\n      <td>3</td>\n      <td>8</td>\n      <td>1600</td>\n      <td>0</td>\n      <td>1993</td>\n      <td>0</td>\n      <td>98001</td>\n      <td>47.3397</td>\n      <td>-122.266</td>\n      <td>1890</td>\n      <td>9830</td>\n      <td>196.875000</td>\n      <td>393</td>\n      <td>0</td>\n      <td>0</td>\n    </tr>\n  </tbody>\n</table>\n</div>"
          },
          "metadata": {}
        }
      ]
    },
    {
      "cell_type": "markdown",
      "source": "###1.4 Удалите признаки date, zipcode, lat, long. Удалю только дате, остальные не могу найти",
      "metadata": {}
    },
    {
      "cell_type": "code",
      "source": "df = df.drop('20150310T000000', axis=1)",
      "metadata": {
        "trusted": true
      },
      "execution_count": 47,
      "outputs": []
    },
    {
      "cell_type": "code",
      "source": "df.head(3)",
      "metadata": {
        "trusted": true
      },
      "execution_count": 48,
      "outputs": [
        {
          "execution_count": 48,
          "output_type": "execute_result",
          "data": {
            "text/plain": "   7663700610    477500  4  1.75  1860   9364    1  0  0.1  3  7  1080  780  \\\n0  7520000330  285000.0  3  2.50  1690   7460  1.0  0    0  3  7   870  820   \n1  1521049156  255000.0  3  2.75  1900  16117  1.0  0    0  4  7  1900    0   \n2  6648760150  315000.0  3  2.50  1600   7982  2.0  0    0  3  8  1600    0   \n\n   1953  0.2  98125   47.731  -122.301  1800  9364.1  price_per_sq_lot  \\\n0  1997    0  98146  47.4964  -122.353  1900    7302        327.586207   \n1  1958    0  98001  47.3144  -122.278  1640   19166        134.210526   \n2  1993    0  98001  47.3397  -122.266  1890    9830        196.875000   \n\n   delta_renovated  год продажи  месяц продажи  \n0              307            0              0  \n1               58            0              0  \n2              393            0              0  ",
            "text/html": "<div>\n<style scoped>\n    .dataframe tbody tr th:only-of-type {\n        vertical-align: middle;\n    }\n\n    .dataframe tbody tr th {\n        vertical-align: top;\n    }\n\n    .dataframe thead th {\n        text-align: right;\n    }\n</style>\n<table border=\"1\" class=\"dataframe\">\n  <thead>\n    <tr style=\"text-align: right;\">\n      <th></th>\n      <th>7663700610</th>\n      <th>477500</th>\n      <th>4</th>\n      <th>1.75</th>\n      <th>1860</th>\n      <th>9364</th>\n      <th>1</th>\n      <th>0</th>\n      <th>0.1</th>\n      <th>3</th>\n      <th>7</th>\n      <th>1080</th>\n      <th>780</th>\n      <th>1953</th>\n      <th>0.2</th>\n      <th>98125</th>\n      <th>47.731</th>\n      <th>-122.301</th>\n      <th>1800</th>\n      <th>9364.1</th>\n      <th>price_per_sq_lot</th>\n      <th>delta_renovated</th>\n      <th>год продажи</th>\n      <th>месяц продажи</th>\n    </tr>\n  </thead>\n  <tbody>\n    <tr>\n      <th>0</th>\n      <td>7520000330</td>\n      <td>285000.0</td>\n      <td>3</td>\n      <td>2.50</td>\n      <td>1690</td>\n      <td>7460</td>\n      <td>1.0</td>\n      <td>0</td>\n      <td>0</td>\n      <td>3</td>\n      <td>7</td>\n      <td>870</td>\n      <td>820</td>\n      <td>1997</td>\n      <td>0</td>\n      <td>98146</td>\n      <td>47.4964</td>\n      <td>-122.353</td>\n      <td>1900</td>\n      <td>7302</td>\n      <td>327.586207</td>\n      <td>307</td>\n      <td>0</td>\n      <td>0</td>\n    </tr>\n    <tr>\n      <th>1</th>\n      <td>1521049156</td>\n      <td>255000.0</td>\n      <td>3</td>\n      <td>2.75</td>\n      <td>1900</td>\n      <td>16117</td>\n      <td>1.0</td>\n      <td>0</td>\n      <td>0</td>\n      <td>4</td>\n      <td>7</td>\n      <td>1900</td>\n      <td>0</td>\n      <td>1958</td>\n      <td>0</td>\n      <td>98001</td>\n      <td>47.3144</td>\n      <td>-122.278</td>\n      <td>1640</td>\n      <td>19166</td>\n      <td>134.210526</td>\n      <td>58</td>\n      <td>0</td>\n      <td>0</td>\n    </tr>\n    <tr>\n      <th>2</th>\n      <td>6648760150</td>\n      <td>315000.0</td>\n      <td>3</td>\n      <td>2.50</td>\n      <td>1600</td>\n      <td>7982</td>\n      <td>2.0</td>\n      <td>0</td>\n      <td>0</td>\n      <td>3</td>\n      <td>8</td>\n      <td>1600</td>\n      <td>0</td>\n      <td>1993</td>\n      <td>0</td>\n      <td>98001</td>\n      <td>47.3397</td>\n      <td>-122.266</td>\n      <td>1890</td>\n      <td>9830</td>\n      <td>196.875000</td>\n      <td>393</td>\n      <td>0</td>\n      <td>0</td>\n    </tr>\n  </tbody>\n</table>\n</div>"
          },
          "metadata": {}
        }
      ]
    },
    {
      "cell_type": "markdown",
      "source": "## ДЗ 2",
      "metadata": {}
    },
    {
      "cell_type": "markdown",
      "source": "Создайте датафрейм с клиентами:\nclients = pd.DataFrame({\n    'client_id': [1459, 4684, 3498, 3942, 4535, 2308, 2866, 2765, 1472, 4236, 2295, 939, 3840,  280,   20, 4332, 3475, 4213, 3113, 4809, 2134, 2242, 2068, 4929, 1384, 1589, 3317, 2260, 1727, 1764, 1611, 1474],\n    'house_id': [8965450190, 6823100225, 5104540330, 2131701075, 1522700060, 1189000207, 6821600300, 7137950720, 9510920050, 6131600255, 5428000070, 1788800910, 8100400160, 3123049142, 6306800010, 5083000375, 7920100025, 1951600150,  809001400,  339600110, 1622049154, 1099600250, 8563000110, 2768100205, 3995700435, 8861700030, 3303980210, 7731100066, 8146100580,  825069097, 3889100029, 9524100196]\n})\nhouse_id - это индексы датафрейма с домами\n",
      "metadata": {}
    },
    {
      "cell_type": "code",
      "source": "clients = pd.DataFrame({\n    'client_id': [1459, 4684, 3498, 3942, 4535, 2308, 2866, 2765, 1472, 4236, 2295, 939, 3840,  280,   20, 4332, 3475, 4213, 3113, 4809, 2134, 2242, 2068, 4929, 1384, 1589, 3317, 2260, 1727, 1764, 1611, 1474],\n    'house_id': [8965450190, 6823100225, 5104540330, 2131701075, 1522700060, 1189000207, 6821600300, 7137950720, 9510920050, 6131600255, 5428000070, 1788800910, 8100400160, 3123049142, 6306800010, 5083000375, 7920100025, 1951600150,  809001400,  339600110, 1622049154, 1099600250, 8563000110, 2768100205, 3995700435, 8861700030, 3303980210, 7731100066, 8146100580,  825069097, 3889100029, 9524100196]\n})\n\n",
      "metadata": {
        "trusted": true
      },
      "execution_count": 49,
      "outputs": []
    },
    {
      "cell_type": "code",
      "source": "clients.head(3)",
      "metadata": {
        "trusted": true
      },
      "execution_count": 50,
      "outputs": [
        {
          "execution_count": 50,
          "output_type": "execute_result",
          "data": {
            "text/plain": "   client_id    house_id\n0       1459  8965450190\n1       4684  6823100225\n2       3498  5104540330",
            "text/html": "<div>\n<style scoped>\n    .dataframe tbody tr th:only-of-type {\n        vertical-align: middle;\n    }\n\n    .dataframe tbody tr th {\n        vertical-align: top;\n    }\n\n    .dataframe thead th {\n        text-align: right;\n    }\n</style>\n<table border=\"1\" class=\"dataframe\">\n  <thead>\n    <tr style=\"text-align: right;\">\n      <th></th>\n      <th>client_id</th>\n      <th>house_id</th>\n    </tr>\n  </thead>\n  <tbody>\n    <tr>\n      <th>0</th>\n      <td>1459</td>\n      <td>8965450190</td>\n    </tr>\n    <tr>\n      <th>1</th>\n      <td>4684</td>\n      <td>6823100225</td>\n    </tr>\n    <tr>\n      <th>2</th>\n      <td>3498</td>\n      <td>5104540330</td>\n    </tr>\n  </tbody>\n</table>\n</div>"
          },
          "metadata": {}
        }
      ]
    },
    {
      "cell_type": "markdown",
      "source": "###2.1 Присоедините к таблице clients данные по домам через метод join",
      "metadata": {}
    },
    {
      "cell_type": "code",
      "source": "house_id = df.set_index('7663700610')\nhouse_id.head()",
      "metadata": {
        "trusted": true
      },
      "execution_count": 54,
      "outputs": [
        {
          "execution_count": 54,
          "output_type": "execute_result",
          "data": {
            "text/plain": "              477500  4  1.75  1860   9364    1  0  0.1  3  7  1080  780  \\\n7663700610                                                                 \n7520000330  285000.0  3  2.50  1690   7460  1.0  0    0  3  7   870  820   \n1521049156  255000.0  3  2.75  1900  16117  1.0  0    0  4  7  1900    0   \n6648760150  315000.0  3  2.50  1600   7982  2.0  0    0  3  8  1600    0   \n1807900300  830000.0  6  3.00  2530   9000  1.0  0    0  3  6  2530    0   \n4310700778  539950.0  3  2.25  1860   1558  3.0  0    0  3  8  1860    0   \n\n            1953  0.2  98125   47.731  -122.301  1800  9364.1  \\\n7663700610                                                      \n7520000330  1997    0  98146  47.4964  -122.353  1900    7302   \n1521049156  1958    0  98001  47.3144  -122.278  1640   19166   \n6648760150  1993    0  98001  47.3397  -122.266  1890    9830   \n1807900300  1978    0  98033  47.6716  -122.199  1886    6000   \n4310700778  2014    0  98103  47.7006  -122.339  1760    2456   \n\n            price_per_sq_lot  delta_renovated  год продажи  месяц продажи  \n7663700610                                                                 \n7520000330        327.586207              307            0              0  \n1521049156        134.210526               58            0              0  \n6648760150        196.875000              393            0              0  \n1807900300        328.063241                0            0              0  \n4310700778        290.295699              154            0              0  ",
            "text/html": "<div>\n<style scoped>\n    .dataframe tbody tr th:only-of-type {\n        vertical-align: middle;\n    }\n\n    .dataframe tbody tr th {\n        vertical-align: top;\n    }\n\n    .dataframe thead th {\n        text-align: right;\n    }\n</style>\n<table border=\"1\" class=\"dataframe\">\n  <thead>\n    <tr style=\"text-align: right;\">\n      <th></th>\n      <th>477500</th>\n      <th>4</th>\n      <th>1.75</th>\n      <th>1860</th>\n      <th>9364</th>\n      <th>1</th>\n      <th>0</th>\n      <th>0.1</th>\n      <th>3</th>\n      <th>7</th>\n      <th>1080</th>\n      <th>780</th>\n      <th>1953</th>\n      <th>0.2</th>\n      <th>98125</th>\n      <th>47.731</th>\n      <th>-122.301</th>\n      <th>1800</th>\n      <th>9364.1</th>\n      <th>price_per_sq_lot</th>\n      <th>delta_renovated</th>\n      <th>год продажи</th>\n      <th>месяц продажи</th>\n    </tr>\n    <tr>\n      <th>7663700610</th>\n      <th></th>\n      <th></th>\n      <th></th>\n      <th></th>\n      <th></th>\n      <th></th>\n      <th></th>\n      <th></th>\n      <th></th>\n      <th></th>\n      <th></th>\n      <th></th>\n      <th></th>\n      <th></th>\n      <th></th>\n      <th></th>\n      <th></th>\n      <th></th>\n      <th></th>\n      <th></th>\n      <th></th>\n      <th></th>\n      <th></th>\n    </tr>\n  </thead>\n  <tbody>\n    <tr>\n      <th>7520000330</th>\n      <td>285000.0</td>\n      <td>3</td>\n      <td>2.50</td>\n      <td>1690</td>\n      <td>7460</td>\n      <td>1.0</td>\n      <td>0</td>\n      <td>0</td>\n      <td>3</td>\n      <td>7</td>\n      <td>870</td>\n      <td>820</td>\n      <td>1997</td>\n      <td>0</td>\n      <td>98146</td>\n      <td>47.4964</td>\n      <td>-122.353</td>\n      <td>1900</td>\n      <td>7302</td>\n      <td>327.586207</td>\n      <td>307</td>\n      <td>0</td>\n      <td>0</td>\n    </tr>\n    <tr>\n      <th>1521049156</th>\n      <td>255000.0</td>\n      <td>3</td>\n      <td>2.75</td>\n      <td>1900</td>\n      <td>16117</td>\n      <td>1.0</td>\n      <td>0</td>\n      <td>0</td>\n      <td>4</td>\n      <td>7</td>\n      <td>1900</td>\n      <td>0</td>\n      <td>1958</td>\n      <td>0</td>\n      <td>98001</td>\n      <td>47.3144</td>\n      <td>-122.278</td>\n      <td>1640</td>\n      <td>19166</td>\n      <td>134.210526</td>\n      <td>58</td>\n      <td>0</td>\n      <td>0</td>\n    </tr>\n    <tr>\n      <th>6648760150</th>\n      <td>315000.0</td>\n      <td>3</td>\n      <td>2.50</td>\n      <td>1600</td>\n      <td>7982</td>\n      <td>2.0</td>\n      <td>0</td>\n      <td>0</td>\n      <td>3</td>\n      <td>8</td>\n      <td>1600</td>\n      <td>0</td>\n      <td>1993</td>\n      <td>0</td>\n      <td>98001</td>\n      <td>47.3397</td>\n      <td>-122.266</td>\n      <td>1890</td>\n      <td>9830</td>\n      <td>196.875000</td>\n      <td>393</td>\n      <td>0</td>\n      <td>0</td>\n    </tr>\n    <tr>\n      <th>1807900300</th>\n      <td>830000.0</td>\n      <td>6</td>\n      <td>3.00</td>\n      <td>2530</td>\n      <td>9000</td>\n      <td>1.0</td>\n      <td>0</td>\n      <td>0</td>\n      <td>3</td>\n      <td>6</td>\n      <td>2530</td>\n      <td>0</td>\n      <td>1978</td>\n      <td>0</td>\n      <td>98033</td>\n      <td>47.6716</td>\n      <td>-122.199</td>\n      <td>1886</td>\n      <td>6000</td>\n      <td>328.063241</td>\n      <td>0</td>\n      <td>0</td>\n      <td>0</td>\n    </tr>\n    <tr>\n      <th>4310700778</th>\n      <td>539950.0</td>\n      <td>3</td>\n      <td>2.25</td>\n      <td>1860</td>\n      <td>1558</td>\n      <td>3.0</td>\n      <td>0</td>\n      <td>0</td>\n      <td>3</td>\n      <td>8</td>\n      <td>1860</td>\n      <td>0</td>\n      <td>2014</td>\n      <td>0</td>\n      <td>98103</td>\n      <td>47.7006</td>\n      <td>-122.339</td>\n      <td>1760</td>\n      <td>2456</td>\n      <td>290.295699</td>\n      <td>154</td>\n      <td>0</td>\n      <td>0</td>\n    </tr>\n  </tbody>\n</table>\n</div>"
          },
          "metadata": {}
        }
      ]
    },
    {
      "cell_type": "code",
      "source": "house_id.join(clients.set_index('house_id'), on='7663700610')",
      "metadata": {
        "trusted": true
      },
      "execution_count": 63,
      "outputs": [
        {
          "execution_count": 63,
          "output_type": "execute_result",
          "data": {
            "text/plain": "              477500  4  1.75  1860   9364    1  0  0.1  3  7  1080  780  \\\n7663700610                                                                 \n7520000330  285000.0  3  2.50  1690   7460  1.0  0    0  3  7   870  820   \n1521049156  255000.0  3  2.75  1900  16117  1.0  0    0  4  7  1900    0   \n6648760150  315000.0  3  2.50  1600   7982  2.0  0    0  3  8  1600    0   \n1807900300  830000.0  6  3.00  2530   9000  1.0  0    0  3  6  2530    0   \n4310700778  539950.0  3  2.25  1860   1558  3.0  0    0  3  8  1860    0   \n...              ... ..   ...   ...    ...  ... ..  ... .. ..   ...  ...   \n263000018   360000.0  3  2.50  1530   1131  3.0  0    0  3  8  1530    0   \n6600060120  400000.0  4  2.50  2310   5813  2.0  0    0  3  8  2310    0   \n1523300141  402101.0  2  0.75  1020   1350  2.0  0    0  3  7  1020    0   \n291310100   400000.0  3  2.50  1600   2388  2.0  0    0  3  8  1600    0   \n1523300157  325000.0  2  0.75  1020   1076  2.0  0    0  3  7  1020    0   \n\n            1953  0.2  98125   47.731  -122.301  1800  9364.1  \\\n7663700610                                                      \n7520000330  1997    0  98146  47.4964  -122.353  1900    7302   \n1521049156  1958    0  98001  47.3144  -122.278  1640   19166   \n6648760150  1993    0  98001  47.3397  -122.266  1890    9830   \n1807900300  1978    0  98033  47.6716  -122.199  1886    6000   \n4310700778  2014    0  98103  47.7006  -122.339  1760    2456   \n...          ...  ...    ...      ...       ...   ...     ...   \n263000018   2009    0  98103  47.6993  -122.346  1530    1509   \n6600060120  2014    0  98146  47.5107  -122.362  1830    7200   \n1523300141  2009    0  98144  47.5944  -122.299  1020    2007   \n291310100   2004    0  98027  47.5345  -122.069  1410    1287   \n1523300157  2008    0  98144  47.5941  -122.299  1020    1357   \n\n            price_per_sq_lot  delta_renovated  год продажи  месяц продажи  \\\n7663700610                                                                  \n7520000330        327.586207              307            0              0   \n1521049156        134.210526               58            0              0   \n6648760150        196.875000              393            0              0   \n1807900300        328.063241                0            0              0   \n4310700778        290.295699              154            0              0   \n...                      ...              ...          ...            ...   \n263000018         235.294118              479            0              0   \n6600060120        173.160173                0            0              0   \n1523300141        394.216667              989            0              0   \n291310100         250.000000              404            0              0   \n1523300157        318.627451              988            0              0   \n\n            client_id  \n7663700610             \n7520000330        NaN  \n1521049156        NaN  \n6648760150        NaN  \n1807900300        NaN  \n4310700778        NaN  \n...               ...  \n263000018         NaN  \n6600060120        NaN  \n1523300141        NaN  \n291310100         NaN  \n1523300157        NaN  \n\n[3595 rows x 24 columns]",
            "text/html": "<div>\n<style scoped>\n    .dataframe tbody tr th:only-of-type {\n        vertical-align: middle;\n    }\n\n    .dataframe tbody tr th {\n        vertical-align: top;\n    }\n\n    .dataframe thead th {\n        text-align: right;\n    }\n</style>\n<table border=\"1\" class=\"dataframe\">\n  <thead>\n    <tr style=\"text-align: right;\">\n      <th></th>\n      <th>477500</th>\n      <th>4</th>\n      <th>1.75</th>\n      <th>1860</th>\n      <th>9364</th>\n      <th>1</th>\n      <th>0</th>\n      <th>0.1</th>\n      <th>3</th>\n      <th>7</th>\n      <th>1080</th>\n      <th>780</th>\n      <th>1953</th>\n      <th>0.2</th>\n      <th>98125</th>\n      <th>47.731</th>\n      <th>-122.301</th>\n      <th>1800</th>\n      <th>9364.1</th>\n      <th>price_per_sq_lot</th>\n      <th>delta_renovated</th>\n      <th>год продажи</th>\n      <th>месяц продажи</th>\n      <th>client_id</th>\n    </tr>\n    <tr>\n      <th>7663700610</th>\n      <th></th>\n      <th></th>\n      <th></th>\n      <th></th>\n      <th></th>\n      <th></th>\n      <th></th>\n      <th></th>\n      <th></th>\n      <th></th>\n      <th></th>\n      <th></th>\n      <th></th>\n      <th></th>\n      <th></th>\n      <th></th>\n      <th></th>\n      <th></th>\n      <th></th>\n      <th></th>\n      <th></th>\n      <th></th>\n      <th></th>\n      <th></th>\n    </tr>\n  </thead>\n  <tbody>\n    <tr>\n      <th>7520000330</th>\n      <td>285000.0</td>\n      <td>3</td>\n      <td>2.50</td>\n      <td>1690</td>\n      <td>7460</td>\n      <td>1.0</td>\n      <td>0</td>\n      <td>0</td>\n      <td>3</td>\n      <td>7</td>\n      <td>870</td>\n      <td>820</td>\n      <td>1997</td>\n      <td>0</td>\n      <td>98146</td>\n      <td>47.4964</td>\n      <td>-122.353</td>\n      <td>1900</td>\n      <td>7302</td>\n      <td>327.586207</td>\n      <td>307</td>\n      <td>0</td>\n      <td>0</td>\n      <td>NaN</td>\n    </tr>\n    <tr>\n      <th>1521049156</th>\n      <td>255000.0</td>\n      <td>3</td>\n      <td>2.75</td>\n      <td>1900</td>\n      <td>16117</td>\n      <td>1.0</td>\n      <td>0</td>\n      <td>0</td>\n      <td>4</td>\n      <td>7</td>\n      <td>1900</td>\n      <td>0</td>\n      <td>1958</td>\n      <td>0</td>\n      <td>98001</td>\n      <td>47.3144</td>\n      <td>-122.278</td>\n      <td>1640</td>\n      <td>19166</td>\n      <td>134.210526</td>\n      <td>58</td>\n      <td>0</td>\n      <td>0</td>\n      <td>NaN</td>\n    </tr>\n    <tr>\n      <th>6648760150</th>\n      <td>315000.0</td>\n      <td>3</td>\n      <td>2.50</td>\n      <td>1600</td>\n      <td>7982</td>\n      <td>2.0</td>\n      <td>0</td>\n      <td>0</td>\n      <td>3</td>\n      <td>8</td>\n      <td>1600</td>\n      <td>0</td>\n      <td>1993</td>\n      <td>0</td>\n      <td>98001</td>\n      <td>47.3397</td>\n      <td>-122.266</td>\n      <td>1890</td>\n      <td>9830</td>\n      <td>196.875000</td>\n      <td>393</td>\n      <td>0</td>\n      <td>0</td>\n      <td>NaN</td>\n    </tr>\n    <tr>\n      <th>1807900300</th>\n      <td>830000.0</td>\n      <td>6</td>\n      <td>3.00</td>\n      <td>2530</td>\n      <td>9000</td>\n      <td>1.0</td>\n      <td>0</td>\n      <td>0</td>\n      <td>3</td>\n      <td>6</td>\n      <td>2530</td>\n      <td>0</td>\n      <td>1978</td>\n      <td>0</td>\n      <td>98033</td>\n      <td>47.6716</td>\n      <td>-122.199</td>\n      <td>1886</td>\n      <td>6000</td>\n      <td>328.063241</td>\n      <td>0</td>\n      <td>0</td>\n      <td>0</td>\n      <td>NaN</td>\n    </tr>\n    <tr>\n      <th>4310700778</th>\n      <td>539950.0</td>\n      <td>3</td>\n      <td>2.25</td>\n      <td>1860</td>\n      <td>1558</td>\n      <td>3.0</td>\n      <td>0</td>\n      <td>0</td>\n      <td>3</td>\n      <td>8</td>\n      <td>1860</td>\n      <td>0</td>\n      <td>2014</td>\n      <td>0</td>\n      <td>98103</td>\n      <td>47.7006</td>\n      <td>-122.339</td>\n      <td>1760</td>\n      <td>2456</td>\n      <td>290.295699</td>\n      <td>154</td>\n      <td>0</td>\n      <td>0</td>\n      <td>NaN</td>\n    </tr>\n    <tr>\n      <th>...</th>\n      <td>...</td>\n      <td>...</td>\n      <td>...</td>\n      <td>...</td>\n      <td>...</td>\n      <td>...</td>\n      <td>...</td>\n      <td>...</td>\n      <td>...</td>\n      <td>...</td>\n      <td>...</td>\n      <td>...</td>\n      <td>...</td>\n      <td>...</td>\n      <td>...</td>\n      <td>...</td>\n      <td>...</td>\n      <td>...</td>\n      <td>...</td>\n      <td>...</td>\n      <td>...</td>\n      <td>...</td>\n      <td>...</td>\n      <td>...</td>\n    </tr>\n    <tr>\n      <th>263000018</th>\n      <td>360000.0</td>\n      <td>3</td>\n      <td>2.50</td>\n      <td>1530</td>\n      <td>1131</td>\n      <td>3.0</td>\n      <td>0</td>\n      <td>0</td>\n      <td>3</td>\n      <td>8</td>\n      <td>1530</td>\n      <td>0</td>\n      <td>2009</td>\n      <td>0</td>\n      <td>98103</td>\n      <td>47.6993</td>\n      <td>-122.346</td>\n      <td>1530</td>\n      <td>1509</td>\n      <td>235.294118</td>\n      <td>479</td>\n      <td>0</td>\n      <td>0</td>\n      <td>NaN</td>\n    </tr>\n    <tr>\n      <th>6600060120</th>\n      <td>400000.0</td>\n      <td>4</td>\n      <td>2.50</td>\n      <td>2310</td>\n      <td>5813</td>\n      <td>2.0</td>\n      <td>0</td>\n      <td>0</td>\n      <td>3</td>\n      <td>8</td>\n      <td>2310</td>\n      <td>0</td>\n      <td>2014</td>\n      <td>0</td>\n      <td>98146</td>\n      <td>47.5107</td>\n      <td>-122.362</td>\n      <td>1830</td>\n      <td>7200</td>\n      <td>173.160173</td>\n      <td>0</td>\n      <td>0</td>\n      <td>0</td>\n      <td>NaN</td>\n    </tr>\n    <tr>\n      <th>1523300141</th>\n      <td>402101.0</td>\n      <td>2</td>\n      <td>0.75</td>\n      <td>1020</td>\n      <td>1350</td>\n      <td>2.0</td>\n      <td>0</td>\n      <td>0</td>\n      <td>3</td>\n      <td>7</td>\n      <td>1020</td>\n      <td>0</td>\n      <td>2009</td>\n      <td>0</td>\n      <td>98144</td>\n      <td>47.5944</td>\n      <td>-122.299</td>\n      <td>1020</td>\n      <td>2007</td>\n      <td>394.216667</td>\n      <td>989</td>\n      <td>0</td>\n      <td>0</td>\n      <td>NaN</td>\n    </tr>\n    <tr>\n      <th>291310100</th>\n      <td>400000.0</td>\n      <td>3</td>\n      <td>2.50</td>\n      <td>1600</td>\n      <td>2388</td>\n      <td>2.0</td>\n      <td>0</td>\n      <td>0</td>\n      <td>3</td>\n      <td>8</td>\n      <td>1600</td>\n      <td>0</td>\n      <td>2004</td>\n      <td>0</td>\n      <td>98027</td>\n      <td>47.5345</td>\n      <td>-122.069</td>\n      <td>1410</td>\n      <td>1287</td>\n      <td>250.000000</td>\n      <td>404</td>\n      <td>0</td>\n      <td>0</td>\n      <td>NaN</td>\n    </tr>\n    <tr>\n      <th>1523300157</th>\n      <td>325000.0</td>\n      <td>2</td>\n      <td>0.75</td>\n      <td>1020</td>\n      <td>1076</td>\n      <td>2.0</td>\n      <td>0</td>\n      <td>0</td>\n      <td>3</td>\n      <td>7</td>\n      <td>1020</td>\n      <td>0</td>\n      <td>2008</td>\n      <td>0</td>\n      <td>98144</td>\n      <td>47.5941</td>\n      <td>-122.299</td>\n      <td>1020</td>\n      <td>1357</td>\n      <td>318.627451</td>\n      <td>988</td>\n      <td>0</td>\n      <td>0</td>\n      <td>NaN</td>\n    </tr>\n  </tbody>\n</table>\n<p>3595 rows × 24 columns</p>\n</div>"
          },
          "metadata": {}
        }
      ]
    },
    {
      "cell_type": "markdown",
      "source": "### 2.2 Присоедините к таблице clients данные по домам через метод merge",
      "metadata": {}
    },
    {
      "cell_type": "code",
      "source": "df3 = pd.merge(house_id, clients, left_on='7663700610', right_on='house_id')\n      ",
      "metadata": {
        "trusted": true
      },
      "execution_count": 68,
      "outputs": []
    },
    {
      "cell_type": "code",
      "source": "df3",
      "metadata": {
        "trusted": true
      },
      "execution_count": 69,
      "outputs": [
        {
          "execution_count": 69,
          "output_type": "execute_result",
          "data": {
            "text/plain": "      477500  4  1.75  1860   9364    1  0  0.1  3   7  1080   780  1953  0.2  \\\n0  1115000.0  4  3.75  4040  14212  2.0  0    0  3  11  4040     0  2002    0   \n1   519000.0  4  2.50  1950   2617  1.5  0    0  4   7  1250   700  1910    0   \n2   436472.0  4  2.50  2692   8392  2.0  0    0  3   9  2692     0  2014    0   \n3   770000.0  5  3.50  4750   8234  2.0  0    2  3  10  3350  1400  2013    0   \n4   239000.0  2  1.50   680    772  2.0  0    0  3   7   680     0  2005    0   \n\n   98125   47.731  -122.301  1800  9364.1  price_per_sq_lot  delta_renovated  \\\n0  98059  47.5189  -122.147  3940   14212        275.990099                0   \n1  98107  47.6696  -122.372  1520    1438        415.200000                0   \n2  98030  47.3519  -122.197  2574   14446        162.136701                0   \n3  98198  47.3574  -122.318  2160   14496        229.850746                0   \n4  98103  47.6950  -122.343   690    1059        351.470588             1325   \n\n   год продажи  месяц продажи  client_id    house_id  \n0            0              0       3317  3303980210  \n1            0              0       4929  2768100205  \n2            0              0         20  6306800010  \n3            0              0       2295  5428000070  \n4            0              0       1474  9524100196  ",
            "text/html": "<div>\n<style scoped>\n    .dataframe tbody tr th:only-of-type {\n        vertical-align: middle;\n    }\n\n    .dataframe tbody tr th {\n        vertical-align: top;\n    }\n\n    .dataframe thead th {\n        text-align: right;\n    }\n</style>\n<table border=\"1\" class=\"dataframe\">\n  <thead>\n    <tr style=\"text-align: right;\">\n      <th></th>\n      <th>477500</th>\n      <th>4</th>\n      <th>1.75</th>\n      <th>1860</th>\n      <th>9364</th>\n      <th>1</th>\n      <th>0</th>\n      <th>0.1</th>\n      <th>3</th>\n      <th>7</th>\n      <th>1080</th>\n      <th>780</th>\n      <th>1953</th>\n      <th>0.2</th>\n      <th>98125</th>\n      <th>47.731</th>\n      <th>-122.301</th>\n      <th>1800</th>\n      <th>9364.1</th>\n      <th>price_per_sq_lot</th>\n      <th>delta_renovated</th>\n      <th>год продажи</th>\n      <th>месяц продажи</th>\n      <th>client_id</th>\n      <th>house_id</th>\n    </tr>\n  </thead>\n  <tbody>\n    <tr>\n      <th>0</th>\n      <td>1115000.0</td>\n      <td>4</td>\n      <td>3.75</td>\n      <td>4040</td>\n      <td>14212</td>\n      <td>2.0</td>\n      <td>0</td>\n      <td>0</td>\n      <td>3</td>\n      <td>11</td>\n      <td>4040</td>\n      <td>0</td>\n      <td>2002</td>\n      <td>0</td>\n      <td>98059</td>\n      <td>47.5189</td>\n      <td>-122.147</td>\n      <td>3940</td>\n      <td>14212</td>\n      <td>275.990099</td>\n      <td>0</td>\n      <td>0</td>\n      <td>0</td>\n      <td>3317</td>\n      <td>3303980210</td>\n    </tr>\n    <tr>\n      <th>1</th>\n      <td>519000.0</td>\n      <td>4</td>\n      <td>2.50</td>\n      <td>1950</td>\n      <td>2617</td>\n      <td>1.5</td>\n      <td>0</td>\n      <td>0</td>\n      <td>4</td>\n      <td>7</td>\n      <td>1250</td>\n      <td>700</td>\n      <td>1910</td>\n      <td>0</td>\n      <td>98107</td>\n      <td>47.6696</td>\n      <td>-122.372</td>\n      <td>1520</td>\n      <td>1438</td>\n      <td>415.200000</td>\n      <td>0</td>\n      <td>0</td>\n      <td>0</td>\n      <td>4929</td>\n      <td>2768100205</td>\n    </tr>\n    <tr>\n      <th>2</th>\n      <td>436472.0</td>\n      <td>4</td>\n      <td>2.50</td>\n      <td>2692</td>\n      <td>8392</td>\n      <td>2.0</td>\n      <td>0</td>\n      <td>0</td>\n      <td>3</td>\n      <td>9</td>\n      <td>2692</td>\n      <td>0</td>\n      <td>2014</td>\n      <td>0</td>\n      <td>98030</td>\n      <td>47.3519</td>\n      <td>-122.197</td>\n      <td>2574</td>\n      <td>14446</td>\n      <td>162.136701</td>\n      <td>0</td>\n      <td>0</td>\n      <td>0</td>\n      <td>20</td>\n      <td>6306800010</td>\n    </tr>\n    <tr>\n      <th>3</th>\n      <td>770000.0</td>\n      <td>5</td>\n      <td>3.50</td>\n      <td>4750</td>\n      <td>8234</td>\n      <td>2.0</td>\n      <td>0</td>\n      <td>2</td>\n      <td>3</td>\n      <td>10</td>\n      <td>3350</td>\n      <td>1400</td>\n      <td>2013</td>\n      <td>0</td>\n      <td>98198</td>\n      <td>47.3574</td>\n      <td>-122.318</td>\n      <td>2160</td>\n      <td>14496</td>\n      <td>229.850746</td>\n      <td>0</td>\n      <td>0</td>\n      <td>0</td>\n      <td>2295</td>\n      <td>5428000070</td>\n    </tr>\n    <tr>\n      <th>4</th>\n      <td>239000.0</td>\n      <td>2</td>\n      <td>1.50</td>\n      <td>680</td>\n      <td>772</td>\n      <td>2.0</td>\n      <td>0</td>\n      <td>0</td>\n      <td>3</td>\n      <td>7</td>\n      <td>680</td>\n      <td>0</td>\n      <td>2005</td>\n      <td>0</td>\n      <td>98103</td>\n      <td>47.6950</td>\n      <td>-122.343</td>\n      <td>690</td>\n      <td>1059</td>\n      <td>351.470588</td>\n      <td>1325</td>\n      <td>0</td>\n      <td>0</td>\n      <td>1474</td>\n      <td>9524100196</td>\n    </tr>\n  </tbody>\n</table>\n</div>"
          },
          "metadata": {}
        }
      ]
    },
    {
      "cell_type": "markdown",
      "source": "###3.1 Найдите среднюю стоимость домов в зависимости от количества спален\nОтсортируйте от меньшей стоимости к большей\n",
      "metadata": {}
    },
    {
      "cell_type": "code",
      "source": "grouped = df.groupby('1.75').agg('477500')\ngrouped",
      "metadata": {
        "trusted": true
      },
      "execution_count": 74,
      "outputs": [
        {
          "execution_count": 74,
          "output_type": "execute_result",
          "data": {
            "text/plain": "<pandas.core.groupby.generic.SeriesGroupBy object at 0x84ecf30>"
          },
          "metadata": {}
        }
      ]
    },
    {
      "cell_type": "code",
      "source": "grouped.head(3)",
      "metadata": {
        "trusted": true
      },
      "execution_count": 71,
      "outputs": [
        {
          "execution_count": 71,
          "output_type": "execute_result",
          "data": {
            "text/plain": "      7663700610     477500  4  1.75  1860    9364    1  0  0.1  3   7  1080  \\\n0     7520000330   285000.0  3  2.50  1690    7460  1.0  0    0  3   7   870   \n1     1521049156   255000.0  3  2.75  1900   16117  1.0  0    0  4   7  1900   \n2     6648760150   315000.0  3  2.50  1600    7982  2.0  0    0  3   8  1600   \n3     1807900300   830000.0  6  3.00  2530    9000  1.0  0    0  3   6  2530   \n4     4310700778   539950.0  3  2.25  1860    1558  3.0  0    0  3   8  1860   \n...          ...        ... ..   ...   ...     ...  ... ..  ... ..  ..   ...   \n2966  2149800278   343000.0  6  5.00  2732    7655  2.0  0    0  3   7  2732   \n3032  2424059170   900000.0  5  6.00  7120   40806  2.0  0    4  3  12  5480   \n3047  1498301048   321950.0  2  1.25   860    1277  2.0  0    0  3   7   860   \n3326  8835770170  1488000.0  5  6.00  6880  279968  2.0  0    3  3  12  4070   \n3488  2524069097  2238890.0  5  6.50  7270  130017  2.0  0    0  3  12  6420   \n\n       780  1953  0.2  98125   47.731  -122.301  1800  9364.1  \\\n0      820  1997    0  98146  47.4964  -122.353  1900    7302   \n1        0  1958    0  98001  47.3144  -122.278  1640   19166   \n2        0  1993    0  98001  47.3397  -122.266  1890    9830   \n3        0  1978    0  98033  47.6716  -122.199  1886    6000   \n4        0  2014    0  98103  47.7006  -122.339  1760    2456   \n...    ...   ...  ...    ...      ...       ...   ...     ...   \n2966     0  2009    0  98002  47.3045  -122.211  3078   69993   \n3032  1640  2007    0  98006  47.5451  -122.114  3440   36859   \n3047     0  2007    0  98144  47.5842  -122.314  1280    1265   \n3326  2810  2007    0  98045  47.4624  -121.779  4690  256803   \n3488   850  2010    0  98027  47.5371  -121.982  1800   44890   \n\n      price_per_sq_lot  delta_renovated  год продажи  месяц продажи  \n0           327.586207              307            0              0  \n1           134.210526               58            0              0  \n2           196.875000              393            0              0  \n3           328.063241                0            0              0  \n4           290.295699              154            0              0  \n...                ...              ...          ...            ...  \n2966        125.549048                0            0              0  \n3032        164.233577                0            0              0  \n3047        374.360465             1147            0              0  \n3326        365.601966                0            0              0  \n3488        348.736760                0            0              0  \n\n[67 rows x 24 columns]",
            "text/html": "<div>\n<style scoped>\n    .dataframe tbody tr th:only-of-type {\n        vertical-align: middle;\n    }\n\n    .dataframe tbody tr th {\n        vertical-align: top;\n    }\n\n    .dataframe thead th {\n        text-align: right;\n    }\n</style>\n<table border=\"1\" class=\"dataframe\">\n  <thead>\n    <tr style=\"text-align: right;\">\n      <th></th>\n      <th>7663700610</th>\n      <th>477500</th>\n      <th>4</th>\n      <th>1.75</th>\n      <th>1860</th>\n      <th>9364</th>\n      <th>1</th>\n      <th>0</th>\n      <th>0.1</th>\n      <th>3</th>\n      <th>7</th>\n      <th>1080</th>\n      <th>780</th>\n      <th>1953</th>\n      <th>0.2</th>\n      <th>98125</th>\n      <th>47.731</th>\n      <th>-122.301</th>\n      <th>1800</th>\n      <th>9364.1</th>\n      <th>price_per_sq_lot</th>\n      <th>delta_renovated</th>\n      <th>год продажи</th>\n      <th>месяц продажи</th>\n    </tr>\n  </thead>\n  <tbody>\n    <tr>\n      <th>0</th>\n      <td>7520000330</td>\n      <td>285000.0</td>\n      <td>3</td>\n      <td>2.50</td>\n      <td>1690</td>\n      <td>7460</td>\n      <td>1.0</td>\n      <td>0</td>\n      <td>0</td>\n      <td>3</td>\n      <td>7</td>\n      <td>870</td>\n      <td>820</td>\n      <td>1997</td>\n      <td>0</td>\n      <td>98146</td>\n      <td>47.4964</td>\n      <td>-122.353</td>\n      <td>1900</td>\n      <td>7302</td>\n      <td>327.586207</td>\n      <td>307</td>\n      <td>0</td>\n      <td>0</td>\n    </tr>\n    <tr>\n      <th>1</th>\n      <td>1521049156</td>\n      <td>255000.0</td>\n      <td>3</td>\n      <td>2.75</td>\n      <td>1900</td>\n      <td>16117</td>\n      <td>1.0</td>\n      <td>0</td>\n      <td>0</td>\n      <td>4</td>\n      <td>7</td>\n      <td>1900</td>\n      <td>0</td>\n      <td>1958</td>\n      <td>0</td>\n      <td>98001</td>\n      <td>47.3144</td>\n      <td>-122.278</td>\n      <td>1640</td>\n      <td>19166</td>\n      <td>134.210526</td>\n      <td>58</td>\n      <td>0</td>\n      <td>0</td>\n    </tr>\n    <tr>\n      <th>2</th>\n      <td>6648760150</td>\n      <td>315000.0</td>\n      <td>3</td>\n      <td>2.50</td>\n      <td>1600</td>\n      <td>7982</td>\n      <td>2.0</td>\n      <td>0</td>\n      <td>0</td>\n      <td>3</td>\n      <td>8</td>\n      <td>1600</td>\n      <td>0</td>\n      <td>1993</td>\n      <td>0</td>\n      <td>98001</td>\n      <td>47.3397</td>\n      <td>-122.266</td>\n      <td>1890</td>\n      <td>9830</td>\n      <td>196.875000</td>\n      <td>393</td>\n      <td>0</td>\n      <td>0</td>\n    </tr>\n    <tr>\n      <th>3</th>\n      <td>1807900300</td>\n      <td>830000.0</td>\n      <td>6</td>\n      <td>3.00</td>\n      <td>2530</td>\n      <td>9000</td>\n      <td>1.0</td>\n      <td>0</td>\n      <td>0</td>\n      <td>3</td>\n      <td>6</td>\n      <td>2530</td>\n      <td>0</td>\n      <td>1978</td>\n      <td>0</td>\n      <td>98033</td>\n      <td>47.6716</td>\n      <td>-122.199</td>\n      <td>1886</td>\n      <td>6000</td>\n      <td>328.063241</td>\n      <td>0</td>\n      <td>0</td>\n      <td>0</td>\n    </tr>\n    <tr>\n      <th>4</th>\n      <td>4310700778</td>\n      <td>539950.0</td>\n      <td>3</td>\n      <td>2.25</td>\n      <td>1860</td>\n      <td>1558</td>\n      <td>3.0</td>\n      <td>0</td>\n      <td>0</td>\n      <td>3</td>\n      <td>8</td>\n      <td>1860</td>\n      <td>0</td>\n      <td>2014</td>\n      <td>0</td>\n      <td>98103</td>\n      <td>47.7006</td>\n      <td>-122.339</td>\n      <td>1760</td>\n      <td>2456</td>\n      <td>290.295699</td>\n      <td>154</td>\n      <td>0</td>\n      <td>0</td>\n    </tr>\n    <tr>\n      <th>...</th>\n      <td>...</td>\n      <td>...</td>\n      <td>...</td>\n      <td>...</td>\n      <td>...</td>\n      <td>...</td>\n      <td>...</td>\n      <td>...</td>\n      <td>...</td>\n      <td>...</td>\n      <td>...</td>\n      <td>...</td>\n      <td>...</td>\n      <td>...</td>\n      <td>...</td>\n      <td>...</td>\n      <td>...</td>\n      <td>...</td>\n      <td>...</td>\n      <td>...</td>\n      <td>...</td>\n      <td>...</td>\n      <td>...</td>\n      <td>...</td>\n    </tr>\n    <tr>\n      <th>2966</th>\n      <td>2149800278</td>\n      <td>343000.0</td>\n      <td>6</td>\n      <td>5.00</td>\n      <td>2732</td>\n      <td>7655</td>\n      <td>2.0</td>\n      <td>0</td>\n      <td>0</td>\n      <td>3</td>\n      <td>7</td>\n      <td>2732</td>\n      <td>0</td>\n      <td>2009</td>\n      <td>0</td>\n      <td>98002</td>\n      <td>47.3045</td>\n      <td>-122.211</td>\n      <td>3078</td>\n      <td>69993</td>\n      <td>125.549048</td>\n      <td>0</td>\n      <td>0</td>\n      <td>0</td>\n    </tr>\n    <tr>\n      <th>3032</th>\n      <td>2424059170</td>\n      <td>900000.0</td>\n      <td>5</td>\n      <td>6.00</td>\n      <td>7120</td>\n      <td>40806</td>\n      <td>2.0</td>\n      <td>0</td>\n      <td>4</td>\n      <td>3</td>\n      <td>12</td>\n      <td>5480</td>\n      <td>1640</td>\n      <td>2007</td>\n      <td>0</td>\n      <td>98006</td>\n      <td>47.5451</td>\n      <td>-122.114</td>\n      <td>3440</td>\n      <td>36859</td>\n      <td>164.233577</td>\n      <td>0</td>\n      <td>0</td>\n      <td>0</td>\n    </tr>\n    <tr>\n      <th>3047</th>\n      <td>1498301048</td>\n      <td>321950.0</td>\n      <td>2</td>\n      <td>1.25</td>\n      <td>860</td>\n      <td>1277</td>\n      <td>2.0</td>\n      <td>0</td>\n      <td>0</td>\n      <td>3</td>\n      <td>7</td>\n      <td>860</td>\n      <td>0</td>\n      <td>2007</td>\n      <td>0</td>\n      <td>98144</td>\n      <td>47.5842</td>\n      <td>-122.314</td>\n      <td>1280</td>\n      <td>1265</td>\n      <td>374.360465</td>\n      <td>1147</td>\n      <td>0</td>\n      <td>0</td>\n    </tr>\n    <tr>\n      <th>3326</th>\n      <td>8835770170</td>\n      <td>1488000.0</td>\n      <td>5</td>\n      <td>6.00</td>\n      <td>6880</td>\n      <td>279968</td>\n      <td>2.0</td>\n      <td>0</td>\n      <td>3</td>\n      <td>3</td>\n      <td>12</td>\n      <td>4070</td>\n      <td>2810</td>\n      <td>2007</td>\n      <td>0</td>\n      <td>98045</td>\n      <td>47.4624</td>\n      <td>-121.779</td>\n      <td>4690</td>\n      <td>256803</td>\n      <td>365.601966</td>\n      <td>0</td>\n      <td>0</td>\n      <td>0</td>\n    </tr>\n    <tr>\n      <th>3488</th>\n      <td>2524069097</td>\n      <td>2238890.0</td>\n      <td>5</td>\n      <td>6.50</td>\n      <td>7270</td>\n      <td>130017</td>\n      <td>2.0</td>\n      <td>0</td>\n      <td>0</td>\n      <td>3</td>\n      <td>12</td>\n      <td>6420</td>\n      <td>850</td>\n      <td>2010</td>\n      <td>0</td>\n      <td>98027</td>\n      <td>47.5371</td>\n      <td>-121.982</td>\n      <td>1800</td>\n      <td>44890</td>\n      <td>348.736760</td>\n      <td>0</td>\n      <td>0</td>\n      <td>0</td>\n    </tr>\n  </tbody>\n</table>\n<p>67 rows × 24 columns</p>\n</div>"
          },
          "metadata": {}
        }
      ]
    },
    {
      "cell_type": "markdown",
      "source": "### 3.2 Найдите минимальную, среднюю и максимальную стоимости домов в зависимости от состояния дома. Буду  считать, что стостояние дома - столбец 47.731",
      "metadata": {}
    },
    {
      "cell_type": "code",
      "source": "grouped2 = df.groupby('47.731').agg({'477500':min})",
      "metadata": {
        "trusted": true
      },
      "execution_count": 77,
      "outputs": []
    },
    {
      "cell_type": "code",
      "source": "grouped2.head(10)",
      "metadata": {
        "trusted": true
      },
      "execution_count": 78,
      "outputs": [
        {
          "execution_count": 78,
          "output_type": "execute_result",
          "data": {
            "text/plain": "           477500\n47.731           \n47.1853  316000.0\n47.1927  330000.0\n47.1934  272000.0\n47.1937  325000.0\n47.1941  275000.0\n47.1942  280000.0\n47.1946  207200.0\n47.1948  246950.0\n47.1951  344000.0\n47.1952  340000.0",
            "text/html": "<div>\n<style scoped>\n    .dataframe tbody tr th:only-of-type {\n        vertical-align: middle;\n    }\n\n    .dataframe tbody tr th {\n        vertical-align: top;\n    }\n\n    .dataframe thead th {\n        text-align: right;\n    }\n</style>\n<table border=\"1\" class=\"dataframe\">\n  <thead>\n    <tr style=\"text-align: right;\">\n      <th></th>\n      <th>477500</th>\n    </tr>\n    <tr>\n      <th>47.731</th>\n      <th></th>\n    </tr>\n  </thead>\n  <tbody>\n    <tr>\n      <th>47.1853</th>\n      <td>316000.0</td>\n    </tr>\n    <tr>\n      <th>47.1927</th>\n      <td>330000.0</td>\n    </tr>\n    <tr>\n      <th>47.1934</th>\n      <td>272000.0</td>\n    </tr>\n    <tr>\n      <th>47.1937</th>\n      <td>325000.0</td>\n    </tr>\n    <tr>\n      <th>47.1941</th>\n      <td>275000.0</td>\n    </tr>\n    <tr>\n      <th>47.1942</th>\n      <td>280000.0</td>\n    </tr>\n    <tr>\n      <th>47.1946</th>\n      <td>207200.0</td>\n    </tr>\n    <tr>\n      <th>47.1948</th>\n      <td>246950.0</td>\n    </tr>\n    <tr>\n      <th>47.1951</th>\n      <td>344000.0</td>\n    </tr>\n    <tr>\n      <th>47.1952</th>\n      <td>340000.0</td>\n    </tr>\n  </tbody>\n</table>\n</div>"
          },
          "metadata": {}
        }
      ]
    },
    {
      "cell_type": "code",
      "source": "grouped3 = df.groupby('47.731').mean('477500')",
      "metadata": {
        "trusted": true
      },
      "execution_count": 85,
      "outputs": []
    },
    {
      "cell_type": "code",
      "source": "grouped3.head(10)",
      "metadata": {
        "trusted": true
      },
      "execution_count": 86,
      "outputs": [
        {
          "execution_count": 86,
          "output_type": "execute_result",
          "data": {
            "text/plain": "           7663700610    477500    4      1.75    1860          9364     1  \\\n47.731                                                                       \n47.1853  2.720069e+09  316000.0  3.0  1.750000  1120.0  98445.000000  1.50   \n47.1927  3.797300e+09  330000.0  3.0  2.000000  2500.0  10697.000000  1.00   \n47.1934  2.309710e+09  272000.0  4.0  2.000000  1870.0   6551.000000  1.00   \n47.1937  2.309710e+09  325000.0  4.0  3.250000  2800.0   5291.000000  2.00   \n47.1941  2.564890e+09  371500.0  3.5  2.625000  2110.0  91087.500000  1.25   \n47.1942  2.309710e+09  280000.0  3.0  2.750000  1740.0   5639.000000  1.00   \n47.1946  7.575500e+09  207200.0  4.0  2.000000  1260.0   8400.000000  1.00   \n47.1948  8.141310e+09  251201.0  3.0  2.333333  1670.0   4439.666667  1.00   \n47.1951  2.571910e+09  344000.0  4.0  2.500000  2100.0   8501.000000  2.00   \n47.1952  8.141300e+09  340000.0  3.0  2.000000  1920.0   5688.000000  1.00   \n\n           0  0.1    3    7    1080  780    1953  0.2    98125    -122.301  \\\n47.731                                                                       \n47.1853  0.0  2.0  4.0  7.0  1120.0  0.0  1917.0  0.0  98022.0 -122.017000   \n47.1927  0.0  0.0  3.0  8.0  2500.0  0.0  1994.0  0.0  98022.0 -122.010000   \n47.1934  0.0  3.0  3.0  7.0  1870.0  0.0  2009.0  0.0  98022.0 -121.977000   \n47.1937  0.0  0.0  3.0  7.0  2800.0  0.0  2011.0  0.0  98022.0 -121.977000   \n47.1941  0.0  1.5  4.0  7.5  2110.0  0.0  1968.5  0.0  98022.0 -122.008500   \n47.1942  0.0  3.0  3.0  7.0  1740.0  0.0  2010.0  0.0  98022.0 -121.977000   \n47.1946  0.0  0.0  3.0  6.0  1260.0  0.0  1991.0  0.0  98022.0 -122.000000   \n47.1948  0.0  0.0  3.0  7.0  1670.0  0.0  2014.0  0.0  98022.0 -121.974667   \n47.1951  0.0  0.0  5.0  7.0  2100.0  0.0  1993.0  0.0  98022.0 -122.010000   \n47.1952  0.0  3.0  3.0  9.0  1920.0  0.0  2007.0  0.0  98022.0 -121.976000   \n\n           1800        9364.1  price_per_sq_lot  delta_renovated  год продажи  \\\n47.731                                                                          \n47.1853  1620.0  34200.000000        282.142857            797.0          0.0   \n47.1927  2560.0   9772.000000        132.000000              0.0          0.0   \n47.1934  2280.0   5331.000000        145.454545            139.0          0.0   \n47.1937  2380.0   5291.000000        116.071429              0.0          0.0   \n47.1941  2010.0  59015.500000        173.377827            135.0          0.0   \n47.1942  2380.0   5331.000000        160.919540            270.0          0.0   \n47.1946  1120.0   8400.000000        164.444444            731.0          0.0   \n47.1948  1670.0   4600.666667        150.419760            344.0          0.0   \n47.1951  2130.0   8560.000000        163.809524              0.0          0.0   \n47.1952  2384.0   4802.000000        177.083333             87.0          0.0   \n\n         месяц продажи  \n47.731                  \n47.1853            0.0  \n47.1927            0.0  \n47.1934            0.0  \n47.1937            0.0  \n47.1941            0.0  \n47.1942            0.0  \n47.1946            0.0  \n47.1948            0.0  \n47.1951            0.0  \n47.1952            0.0  ",
            "text/html": "<div>\n<style scoped>\n    .dataframe tbody tr th:only-of-type {\n        vertical-align: middle;\n    }\n\n    .dataframe tbody tr th {\n        vertical-align: top;\n    }\n\n    .dataframe thead th {\n        text-align: right;\n    }\n</style>\n<table border=\"1\" class=\"dataframe\">\n  <thead>\n    <tr style=\"text-align: right;\">\n      <th></th>\n      <th>7663700610</th>\n      <th>477500</th>\n      <th>4</th>\n      <th>1.75</th>\n      <th>1860</th>\n      <th>9364</th>\n      <th>1</th>\n      <th>0</th>\n      <th>0.1</th>\n      <th>3</th>\n      <th>7</th>\n      <th>1080</th>\n      <th>780</th>\n      <th>1953</th>\n      <th>0.2</th>\n      <th>98125</th>\n      <th>-122.301</th>\n      <th>1800</th>\n      <th>9364.1</th>\n      <th>price_per_sq_lot</th>\n      <th>delta_renovated</th>\n      <th>год продажи</th>\n      <th>месяц продажи</th>\n    </tr>\n    <tr>\n      <th>47.731</th>\n      <th></th>\n      <th></th>\n      <th></th>\n      <th></th>\n      <th></th>\n      <th></th>\n      <th></th>\n      <th></th>\n      <th></th>\n      <th></th>\n      <th></th>\n      <th></th>\n      <th></th>\n      <th></th>\n      <th></th>\n      <th></th>\n      <th></th>\n      <th></th>\n      <th></th>\n      <th></th>\n      <th></th>\n      <th></th>\n      <th></th>\n    </tr>\n  </thead>\n  <tbody>\n    <tr>\n      <th>47.1853</th>\n      <td>2.720069e+09</td>\n      <td>316000.0</td>\n      <td>3.0</td>\n      <td>1.750000</td>\n      <td>1120.0</td>\n      <td>98445.000000</td>\n      <td>1.50</td>\n      <td>0.0</td>\n      <td>2.0</td>\n      <td>4.0</td>\n      <td>7.0</td>\n      <td>1120.0</td>\n      <td>0.0</td>\n      <td>1917.0</td>\n      <td>0.0</td>\n      <td>98022.0</td>\n      <td>-122.017000</td>\n      <td>1620.0</td>\n      <td>34200.000000</td>\n      <td>282.142857</td>\n      <td>797.0</td>\n      <td>0.0</td>\n      <td>0.0</td>\n    </tr>\n    <tr>\n      <th>47.1927</th>\n      <td>3.797300e+09</td>\n      <td>330000.0</td>\n      <td>3.0</td>\n      <td>2.000000</td>\n      <td>2500.0</td>\n      <td>10697.000000</td>\n      <td>1.00</td>\n      <td>0.0</td>\n      <td>0.0</td>\n      <td>3.0</td>\n      <td>8.0</td>\n      <td>2500.0</td>\n      <td>0.0</td>\n      <td>1994.0</td>\n      <td>0.0</td>\n      <td>98022.0</td>\n      <td>-122.010000</td>\n      <td>2560.0</td>\n      <td>9772.000000</td>\n      <td>132.000000</td>\n      <td>0.0</td>\n      <td>0.0</td>\n      <td>0.0</td>\n    </tr>\n    <tr>\n      <th>47.1934</th>\n      <td>2.309710e+09</td>\n      <td>272000.0</td>\n      <td>4.0</td>\n      <td>2.000000</td>\n      <td>1870.0</td>\n      <td>6551.000000</td>\n      <td>1.00</td>\n      <td>0.0</td>\n      <td>3.0</td>\n      <td>3.0</td>\n      <td>7.0</td>\n      <td>1870.0</td>\n      <td>0.0</td>\n      <td>2009.0</td>\n      <td>0.0</td>\n      <td>98022.0</td>\n      <td>-121.977000</td>\n      <td>2280.0</td>\n      <td>5331.000000</td>\n      <td>145.454545</td>\n      <td>139.0</td>\n      <td>0.0</td>\n      <td>0.0</td>\n    </tr>\n    <tr>\n      <th>47.1937</th>\n      <td>2.309710e+09</td>\n      <td>325000.0</td>\n      <td>4.0</td>\n      <td>3.250000</td>\n      <td>2800.0</td>\n      <td>5291.000000</td>\n      <td>2.00</td>\n      <td>0.0</td>\n      <td>0.0</td>\n      <td>3.0</td>\n      <td>7.0</td>\n      <td>2800.0</td>\n      <td>0.0</td>\n      <td>2011.0</td>\n      <td>0.0</td>\n      <td>98022.0</td>\n      <td>-121.977000</td>\n      <td>2380.0</td>\n      <td>5291.000000</td>\n      <td>116.071429</td>\n      <td>0.0</td>\n      <td>0.0</td>\n      <td>0.0</td>\n    </tr>\n    <tr>\n      <th>47.1941</th>\n      <td>2.564890e+09</td>\n      <td>371500.0</td>\n      <td>3.5</td>\n      <td>2.625000</td>\n      <td>2110.0</td>\n      <td>91087.500000</td>\n      <td>1.25</td>\n      <td>0.0</td>\n      <td>1.5</td>\n      <td>4.0</td>\n      <td>7.5</td>\n      <td>2110.0</td>\n      <td>0.0</td>\n      <td>1968.5</td>\n      <td>0.0</td>\n      <td>98022.0</td>\n      <td>-122.008500</td>\n      <td>2010.0</td>\n      <td>59015.500000</td>\n      <td>173.377827</td>\n      <td>135.0</td>\n      <td>0.0</td>\n      <td>0.0</td>\n    </tr>\n    <tr>\n      <th>47.1942</th>\n      <td>2.309710e+09</td>\n      <td>280000.0</td>\n      <td>3.0</td>\n      <td>2.750000</td>\n      <td>1740.0</td>\n      <td>5639.000000</td>\n      <td>1.00</td>\n      <td>0.0</td>\n      <td>3.0</td>\n      <td>3.0</td>\n      <td>7.0</td>\n      <td>1740.0</td>\n      <td>0.0</td>\n      <td>2010.0</td>\n      <td>0.0</td>\n      <td>98022.0</td>\n      <td>-121.977000</td>\n      <td>2380.0</td>\n      <td>5331.000000</td>\n      <td>160.919540</td>\n      <td>270.0</td>\n      <td>0.0</td>\n      <td>0.0</td>\n    </tr>\n    <tr>\n      <th>47.1946</th>\n      <td>7.575500e+09</td>\n      <td>207200.0</td>\n      <td>4.0</td>\n      <td>2.000000</td>\n      <td>1260.0</td>\n      <td>8400.000000</td>\n      <td>1.00</td>\n      <td>0.0</td>\n      <td>0.0</td>\n      <td>3.0</td>\n      <td>6.0</td>\n      <td>1260.0</td>\n      <td>0.0</td>\n      <td>1991.0</td>\n      <td>0.0</td>\n      <td>98022.0</td>\n      <td>-122.000000</td>\n      <td>1120.0</td>\n      <td>8400.000000</td>\n      <td>164.444444</td>\n      <td>731.0</td>\n      <td>0.0</td>\n      <td>0.0</td>\n    </tr>\n    <tr>\n      <th>47.1948</th>\n      <td>8.141310e+09</td>\n      <td>251201.0</td>\n      <td>3.0</td>\n      <td>2.333333</td>\n      <td>1670.0</td>\n      <td>4439.666667</td>\n      <td>1.00</td>\n      <td>0.0</td>\n      <td>0.0</td>\n      <td>3.0</td>\n      <td>7.0</td>\n      <td>1670.0</td>\n      <td>0.0</td>\n      <td>2014.0</td>\n      <td>0.0</td>\n      <td>98022.0</td>\n      <td>-121.974667</td>\n      <td>1670.0</td>\n      <td>4600.666667</td>\n      <td>150.419760</td>\n      <td>344.0</td>\n      <td>0.0</td>\n      <td>0.0</td>\n    </tr>\n    <tr>\n      <th>47.1951</th>\n      <td>2.571910e+09</td>\n      <td>344000.0</td>\n      <td>4.0</td>\n      <td>2.500000</td>\n      <td>2100.0</td>\n      <td>8501.000000</td>\n      <td>2.00</td>\n      <td>0.0</td>\n      <td>0.0</td>\n      <td>5.0</td>\n      <td>7.0</td>\n      <td>2100.0</td>\n      <td>0.0</td>\n      <td>1993.0</td>\n      <td>0.0</td>\n      <td>98022.0</td>\n      <td>-122.010000</td>\n      <td>2130.0</td>\n      <td>8560.000000</td>\n      <td>163.809524</td>\n      <td>0.0</td>\n      <td>0.0</td>\n      <td>0.0</td>\n    </tr>\n    <tr>\n      <th>47.1952</th>\n      <td>8.141300e+09</td>\n      <td>340000.0</td>\n      <td>3.0</td>\n      <td>2.000000</td>\n      <td>1920.0</td>\n      <td>5688.000000</td>\n      <td>1.00</td>\n      <td>0.0</td>\n      <td>3.0</td>\n      <td>3.0</td>\n      <td>9.0</td>\n      <td>1920.0</td>\n      <td>0.0</td>\n      <td>2007.0</td>\n      <td>0.0</td>\n      <td>98022.0</td>\n      <td>-121.976000</td>\n      <td>2384.0</td>\n      <td>4802.000000</td>\n      <td>177.083333</td>\n      <td>87.0</td>\n      <td>0.0</td>\n      <td>0.0</td>\n    </tr>\n  </tbody>\n</table>\n</div>"
          },
          "metadata": {}
        }
      ]
    },
    {
      "cell_type": "markdown",
      "source": "### 3.3 Постройте таблицу с подсчетом количества домов в данных в зависимости от вида на набережную и оценкой вида",
      "metadata": {}
    },
    {
      "cell_type": "code",
      "source": "group4 = df.groupby(['0','0.1'], as_index=False)['7663700610'].value_counts()",
      "metadata": {
        "trusted": true
      },
      "execution_count": 87,
      "outputs": []
    },
    {
      "cell_type": "code",
      "source": "group4.head(5)",
      "metadata": {
        "trusted": true
      },
      "execution_count": 88,
      "outputs": [
        {
          "execution_count": 88,
          "output_type": "execute_result",
          "data": {
            "text/plain": "   0  0.1  7663700610  count\n0  0    0  3558900590      2\n1  0    0  7853400250      2\n2  0    0  8648900110      2\n3  0    0  1901600090      2\n4  0    0  7853420110      2",
            "text/html": "<div>\n<style scoped>\n    .dataframe tbody tr th:only-of-type {\n        vertical-align: middle;\n    }\n\n    .dataframe tbody tr th {\n        vertical-align: top;\n    }\n\n    .dataframe thead th {\n        text-align: right;\n    }\n</style>\n<table border=\"1\" class=\"dataframe\">\n  <thead>\n    <tr style=\"text-align: right;\">\n      <th></th>\n      <th>0</th>\n      <th>0.1</th>\n      <th>7663700610</th>\n      <th>count</th>\n    </tr>\n  </thead>\n  <tbody>\n    <tr>\n      <th>0</th>\n      <td>0</td>\n      <td>0</td>\n      <td>3558900590</td>\n      <td>2</td>\n    </tr>\n    <tr>\n      <th>1</th>\n      <td>0</td>\n      <td>0</td>\n      <td>7853400250</td>\n      <td>2</td>\n    </tr>\n    <tr>\n      <th>2</th>\n      <td>0</td>\n      <td>0</td>\n      <td>8648900110</td>\n      <td>2</td>\n    </tr>\n    <tr>\n      <th>3</th>\n      <td>0</td>\n      <td>0</td>\n      <td>1901600090</td>\n      <td>2</td>\n    </tr>\n    <tr>\n      <th>4</th>\n      <td>0</td>\n      <td>0</td>\n      <td>7853420110</td>\n      <td>2</td>\n    </tr>\n  </tbody>\n</table>\n</div>"
          },
          "metadata": {}
        }
      ]
    },
    {
      "cell_type": "code",
      "source": "",
      "metadata": {},
      "execution_count": null,
      "outputs": []
    }
  ]
}