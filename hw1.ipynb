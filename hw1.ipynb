{
  "metadata": {
    "language_info": {
      "codemirror_mode": {
        "name": "python",
        "version": 3
      },
      "file_extension": ".py",
      "mimetype": "text/x-python",
      "name": "python",
      "nbconvert_exporter": "python",
      "pygments_lexer": "ipython3",
      "version": "3.8"
    },
    "kernelspec": {
      "name": "python",
      "display_name": "Python (Pyodide)",
      "language": "python"
    }
  },
  "nbformat_minor": 4,
  "nbformat": 4,
  "cells": [
    {
      "cell_type": "markdown",
      "source": "#Домашнее задание 1",
      "metadata": {}
    },
    {
      "cell_type": "markdown",
      "source": "##Задание 2",
      "metadata": {}
    },
    {
      "cell_type": "code",
      "source": "def count(**kwargs):\n    result = 0\n    for key, value in kwargs.items():\n        # print(value)\n        # print(type(value))\n        result = result+value\n    return result\ncount(a=5, b=6)\n    \n    \n",
      "metadata": {
        "trusted": true
      },
      "execution_count": 16,
      "outputs": [
        {
          "execution_count": 16,
          "output_type": "execute_result",
          "data": {
            "text/plain": "11"
          },
          "metadata": {}
        }
      ]
    },
    {
      "cell_type": "markdown",
      "source": "##Задание 3",
      "metadata": {}
    },
    {
      "cell_type": "code",
      "source": "def positive(list):\n    positive_nums = [i for i in list if i>=0]\n    return sum(positive_nums)\npositive([100, 125, -90])",
      "metadata": {
        "trusted": true
      },
      "execution_count": 18,
      "outputs": [
        {
          "execution_count": 18,
          "output_type": "execute_result",
          "data": {
            "text/plain": "225"
          },
          "metadata": {}
        }
      ]
    },
    {
      "cell_type": "markdown",
      "source": "## Задание 4",
      "metadata": {}
    },
    {
      "cell_type": "code",
      "source": "dates = ['2021-09-14', '2021-12-15', '2021-09-08', '2021-12-05', '2021-10-09',\n         '2021-09-30', '2021-12-22', '2021-11-29', '2021-12-24', '2021-11-26', '2021-10-27', '2021-12-18',\n         '2021-11-09', '2021-11-23', '2021-09-27', '2021-10-02', '2021-12-27', '2021-09-20', '2021-12-13', '2021-11-01',\n         '2021-11-09', '2021-12-06', '2021-12-08', '2021-10-09', '2021-10-31', '2021-09-30', '2021-11-09', '2021-12-13',\n         '2021-10-26', '2021-12-09']\nbuy_values = [1270, 8413, 9028, 3703, 5739, 4095, 295, 4944, 5723, 3701, 4471, 651, 7037, 4274, 6275, 4988, 6930, 2971,\n             6592, 2004, 2822, 519, 3406, 2732, 5015, 2008, 316, 6333, 5700, 2887]",
      "metadata": {
        "trusted": true
      },
      "execution_count": 42,
      "outputs": []
    },
    {
      "cell_type": "markdown",
      "source": "### 4.1",
      "metadata": {}
    },
    {
      "cell_type": "code",
      "source": "print (dates[0])",
      "metadata": {
        "trusted": true
      },
      "execution_count": 43,
      "outputs": [
        {
          "name": "stdout",
          "text": "2021-09-14\n",
          "output_type": "stream"
        }
      ]
    },
    {
      "cell_type": "code",
      "source": "print (type(dates[0]))",
      "metadata": {
        "trusted": true
      },
      "execution_count": 44,
      "outputs": [
        {
          "name": "stdout",
          "text": "<class 'str'>\n",
          "output_type": "stream"
        }
      ]
    },
    {
      "cell_type": "code",
      "source": "zipped_shops = zip(dates, buy_values)\nprint ([zipped_shops])",
      "metadata": {
        "trusted": true
      },
      "execution_count": 46,
      "outputs": [
        {
          "name": "stdout",
          "text": "[<zip object at 0x36d8088>]\n",
          "output_type": "stream"
        }
      ]
    },
    {
      "cell_type": "code",
      "source": "zipped_shops = zip(dates, buy_values)\nzipped_list = list(zipped_shops)\nprint (zipped_list)",
      "metadata": {
        "trusted": true
      },
      "execution_count": 47,
      "outputs": [
        {
          "name": "stdout",
          "text": "[('2021-09-14', 1270), ('2021-12-15', 8413), ('2021-09-08', 9028), ('2021-12-05', 3703), ('2021-10-09', 5739), ('2021-09-30', 4095), ('2021-12-22', 295), ('2021-11-29', 4944), ('2021-12-24', 5723), ('2021-11-26', 3701), ('2021-10-27', 4471), ('2021-12-18', 651), ('2021-11-09', 7037), ('2021-11-23', 4274), ('2021-09-27', 6275), ('2021-10-02', 4988), ('2021-12-27', 6930), ('2021-09-20', 2971), ('2021-12-13', 6592), ('2021-11-01', 2004), ('2021-11-09', 2822), ('2021-12-06', 519), ('2021-12-08', 3406), ('2021-10-09', 2732), ('2021-10-31', 5015), ('2021-09-30', 2008), ('2021-11-09', 316), ('2021-12-13', 6333), ('2021-10-26', 5700), ('2021-12-09', 2887)]\n",
          "output_type": "stream"
        }
      ]
    },
    {
      "cell_type": "code",
      "source": "from datetime import date\ndate  = date.fromisoformat(dates[0])\nprint(date)",
      "metadata": {
        "trusted": true
      },
      "execution_count": 48,
      "outputs": [
        {
          "name": "stdout",
          "text": "2021-09-14\n",
          "output_type": "stream"
        }
      ]
    },
    {
      "cell_type": "code",
      "source": "print(zipped_list[0][0])",
      "metadata": {
        "trusted": true
      },
      "execution_count": 50,
      "outputs": [
        {
          "name": "stdout",
          "text": "2021-09-14\n",
          "output_type": "stream"
        }
      ]
    },
    {
      "cell_type": "code",
      "source": "def sales (li):\n    sales_for_date = [p[1] for p in li if date.fromisoformat(p[0]).month == 11]\n    return sum (sales_for_date)\nprint(sales (zipped_list))",
      "metadata": {
        "trusted": true
      },
      "execution_count": 55,
      "outputs": [
        {
          "name": "stdout",
          "text": "25098\n",
          "output_type": "stream"
        }
      ]
    },
    {
      "cell_type": "markdown",
      "source": "### 4.2",
      "metadata": {}
    },
    {
      "cell_type": "code",
      "source": "def sales_month (li, mon):\n    sales_for_date = [p[1] for p in li if date.fromisoformat(p[0]).month == mon]\n    return sum (sales_for_date)\nprint(sales_month (zipped_list, 12))",
      "metadata": {
        "trusted": true
      },
      "execution_count": 58,
      "outputs": [
        {
          "name": "stdout",
          "text": "45452\n",
          "output_type": "stream"
        }
      ]
    },
    {
      "cell_type": "code",
      "source": "",
      "metadata": {},
      "execution_count": null,
      "outputs": []
    }
  ]
}